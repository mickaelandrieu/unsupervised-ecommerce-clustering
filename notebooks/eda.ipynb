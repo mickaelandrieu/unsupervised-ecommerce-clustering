{
 "cells": [
  {
   "cell_type": "markdown",
   "id": "eaadb869",
   "metadata": {
    "id": "eaadb869"
   },
   "source": [
    "# Data discovery and cleaning"
   ]
  },
  {
   "cell_type": "code",
   "execution_count": 1,
   "id": "ec7e3e09",
   "metadata": {
    "colab": {
     "base_uri": "https://localhost:8080/"
    },
    "executionInfo": {
     "elapsed": 4096,
     "status": "ok",
     "timestamp": 1639649526255,
     "user": {
      "displayName": "Mickaël Andrieu",
      "photoUrl": "https://lh3.googleusercontent.com/a-/AOh14GibW-DsKnQrmABg65lvSnBBkuNoGVeR0AqjwOOz=s64",
      "userId": "00306837745233289241"
     },
     "user_tz": -60
    },
    "id": "ec7e3e09",
    "outputId": "a9947876-6cc6-47d2-b88a-654185a5e5b6"
   },
   "outputs": [],
   "source": [
    "import pandas as pd\n",
    "\n",
    "pd.set_option(\"display.max_columns\", 10)\n",
    "pd.set_option(\"display.max_rows\", 50)"
   ]
  },
  {
   "cell_type": "markdown",
   "id": "e73842e0",
   "metadata": {},
   "source": [
    "## Data discovery"
   ]
  },
  {
   "cell_type": "code",
   "execution_count": 7,
   "id": "01b81e62",
   "metadata": {},
   "outputs": [],
   "source": [
    "file_path = \"./../input/olist_\"\n",
    "file_end = \"_dataset.csv\"\n",
    "customers = pd.read_csv(\"{0}customers{1}\".format(file_path, file_end))\n",
    "geolocation = pd.read_csv(\"{0}geolocation{1}\".format(file_path, file_end))\n",
    "order_items = pd.read_csv(\"{0}order_items{1}\".format(file_path, file_end))\n",
    "order_payments = pd.read_csv(\"{0}order_payments{1}\".format(file_path, file_end))\n",
    "order_reviews = pd.read_csv(\"{0}order_reviews{1}\".format(file_path, file_end))\n",
    "orders = pd.read_csv(\"{0}orders{1}\".format(file_path, file_end))\n",
    "products = pd.read_csv(\"{0}products{1}\".format(file_path, file_end))\n",
    "sellers = pd.read_csv(\"{0}sellers{1}\".format(file_path, file_end))\n",
    "\n",
    "product_category_name_translation = pd.read_csv(\n",
    "    \"./../input/product_category_name_translation.csv\".format(file_path)\n",
    ")"
   ]
  },
  {
   "cell_type": "code",
   "execution_count": null,
   "id": "dfcfb630",
   "metadata": {},
   "outputs": [],
   "source": []
  },
  {
   "cell_type": "code",
   "execution_count": 2,
   "id": "541b0243",
   "metadata": {},
   "outputs": [
    {
     "name": "stdout",
     "output_type": "stream",
     "text": [
      "Done\n"
     ]
    }
   ],
   "source": [
    "print(\"Done\")"
   ]
  }
 ],
 "metadata": {
  "colab": {
   "collapsed_sections": [],
   "name": "cleaning.ipynb",
   "provenance": []
  },
  "kernelspec": {
   "display_name": "Python 3",
   "language": "python",
   "name": "python3"
  },
  "language_info": {
   "codemirror_mode": {
    "name": "ipython",
    "version": 3
   },
   "file_extension": ".py",
   "mimetype": "text/x-python",
   "name": "python",
   "nbconvert_exporter": "python",
   "pygments_lexer": "ipython3",
   "version": "3.9.1"
  }
 },
 "nbformat": 4,
 "nbformat_minor": 5
}
