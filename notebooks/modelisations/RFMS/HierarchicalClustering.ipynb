{
 "cells": [
  {
   "cell_type": "markdown",
   "metadata": {
    "collapsed": true,
    "pycharm": {
     "name": "#%% md\n"
    }
   },
   "source": [
    "# RFM clustering using Hierarchical Clustering\n",
    "\n",
    "## Agglomerative\n",
    "\n",
    "The principle is simple : at start all points are clusters and then using distance we try step by step to group clusters in bigger clusters.\n",
    "\n",
    "To do that, the algorithm consider two data:\n",
    "* the intra cluster variance ;\n",
    "* the inter cluster variance ;\n",
    "\n",
    "Like in K-Means, we need to define the number of clusters `n_clusters` and the `linkage` property.\n",
    "\n",
    "The `linkage` property determines which distance to use between observations."
   ]
  },
  {
   "cell_type": "code",
   "execution_count": 20,
   "outputs": [
    {
     "data": {
      "text/plain": "       recency  frequency  monetary  nb_orders  scoring_R  scoring_F  \\\n4346     425.0   0.066667    116.36        1.0          5          1   \n37624    117.0   0.200000    115.48        1.0          2          4   \n34075    143.0   0.166667    594.42        1.0          2          4   \n89326    322.0   0.083333     83.94        1.0          4          2   \n79142    278.0   0.100000     52.78        1.0          4          2   \n\n       scoring_M  scoring_RFM   segment_RFM  review_score  \\\n4346           3            9  Bons clients           5.0   \n37624          3            9  Bons clients           5.0   \n34075          5           11  Bons clients           5.0   \n89326          2            8  Bons clients           5.0   \n79142          1            7  Bons clients           5.0   \n\n       review_completion_percentage   review_behavior  \n4346                      33.333333  Best Contributor  \n37624                    100.000000  Best Contributor  \n34075                     66.666667  Best Contributor  \n89326                     33.333333  Best Contributor  \n79142                     33.333333  Best Contributor  ",
      "text/html": "<div>\n<style scoped>\n    .dataframe tbody tr th:only-of-type {\n        vertical-align: middle;\n    }\n\n    .dataframe tbody tr th {\n        vertical-align: top;\n    }\n\n    .dataframe thead th {\n        text-align: right;\n    }\n</style>\n<table border=\"1\" class=\"dataframe\">\n  <thead>\n    <tr style=\"text-align: right;\">\n      <th></th>\n      <th>recency</th>\n      <th>frequency</th>\n      <th>monetary</th>\n      <th>nb_orders</th>\n      <th>scoring_R</th>\n      <th>scoring_F</th>\n      <th>scoring_M</th>\n      <th>scoring_RFM</th>\n      <th>segment_RFM</th>\n      <th>review_score</th>\n      <th>review_completion_percentage</th>\n      <th>review_behavior</th>\n    </tr>\n  </thead>\n  <tbody>\n    <tr>\n      <th>4346</th>\n      <td>425.0</td>\n      <td>0.066667</td>\n      <td>116.36</td>\n      <td>1.0</td>\n      <td>5</td>\n      <td>1</td>\n      <td>3</td>\n      <td>9</td>\n      <td>Bons clients</td>\n      <td>5.0</td>\n      <td>33.333333</td>\n      <td>Best Contributor</td>\n    </tr>\n    <tr>\n      <th>37624</th>\n      <td>117.0</td>\n      <td>0.200000</td>\n      <td>115.48</td>\n      <td>1.0</td>\n      <td>2</td>\n      <td>4</td>\n      <td>3</td>\n      <td>9</td>\n      <td>Bons clients</td>\n      <td>5.0</td>\n      <td>100.000000</td>\n      <td>Best Contributor</td>\n    </tr>\n    <tr>\n      <th>34075</th>\n      <td>143.0</td>\n      <td>0.166667</td>\n      <td>594.42</td>\n      <td>1.0</td>\n      <td>2</td>\n      <td>4</td>\n      <td>5</td>\n      <td>11</td>\n      <td>Bons clients</td>\n      <td>5.0</td>\n      <td>66.666667</td>\n      <td>Best Contributor</td>\n    </tr>\n    <tr>\n      <th>89326</th>\n      <td>322.0</td>\n      <td>0.083333</td>\n      <td>83.94</td>\n      <td>1.0</td>\n      <td>4</td>\n      <td>2</td>\n      <td>2</td>\n      <td>8</td>\n      <td>Bons clients</td>\n      <td>5.0</td>\n      <td>33.333333</td>\n      <td>Best Contributor</td>\n    </tr>\n    <tr>\n      <th>79142</th>\n      <td>278.0</td>\n      <td>0.100000</td>\n      <td>52.78</td>\n      <td>1.0</td>\n      <td>4</td>\n      <td>2</td>\n      <td>1</td>\n      <td>7</td>\n      <td>Bons clients</td>\n      <td>5.0</td>\n      <td>33.333333</td>\n      <td>Best Contributor</td>\n    </tr>\n  </tbody>\n</table>\n</div>"
     },
     "execution_count": 20,
     "metadata": {},
     "output_type": "execute_result"
    }
   ],
   "source": [
    "import pandas as pd\n",
    "import numpy as np\n",
    "import plotly.express as px\n",
    "import matplotlib.pyplot as plt\n",
    "from sklearn.model_selection import train_test_split\n",
    "from sklearn.cluster import AgglomerativeClustering\n",
    "\n",
    "rfms = pd.read_csv(\"./../../../output/rms.csv\")\n",
    "\n",
    "y = rfms[\"review_score\"]\n",
    "\n",
    "X_train, X_test, y_train, y_test = train_test_split(\n",
    "    rfms, y, test_size=0.2, random_state=42, stratify=y\n",
    ")\n",
    "rfms = X_test\n",
    "\n",
    "rfms.head()"
   ],
   "metadata": {
    "collapsed": false,
    "pycharm": {
     "name": "#%%\n"
    }
   }
  },
  {
   "cell_type": "markdown",
   "source": [
    "We scale the data:"
   ],
   "metadata": {
    "collapsed": false
   }
  },
  {
   "cell_type": "code",
   "execution_count": 21,
   "outputs": [
    {
     "data": {
      "text/plain": "array([[ 1.21399954, -0.65576105, -0.22333186,  0.66226064],\n       [-0.79757495,  0.06055166, -0.22758092,  0.66226064],\n       [-0.62776671, -0.11852652,  2.08496986,  0.66226064],\n       ...,\n       [ 1.06378456, -0.63017845, -0.13274963,  0.66226064],\n       [-1.28740639,  1.67225526,  0.27438755, -3.12695001],\n       [ 0.22127447, -0.47668287, -0.37721542,  0.66226064]])"
     },
     "execution_count": 21,
     "metadata": {},
     "output_type": "execute_result"
    }
   ],
   "source": [
    "from sklearn.preprocessing import StandardScaler\n",
    "\n",
    "scaler = StandardScaler()\n",
    "customers_vars = rfms[[\"recency\", \"frequency\", \"monetary\", \"review_score\"]]\n",
    "scaler.fit(customers_vars)\n",
    "\n",
    "scaled_customers = scaler.transform(customers_vars)\n",
    "\n",
    "scaled_customers"
   ],
   "metadata": {
    "collapsed": false,
    "pycharm": {
     "name": "#%%\n"
    }
   }
  },
  {
   "cell_type": "code",
   "execution_count": 22,
   "outputs": [
    {
     "data": {
      "text/plain": "   nb_clusters  silhouette_score\n0            2          0.287650\n1            3          0.330490\n2            4          0.344285\n3            5          0.341344\n4            6          0.289832\n5            7          0.284213",
      "text/html": "<div>\n<style scoped>\n    .dataframe tbody tr th:only-of-type {\n        vertical-align: middle;\n    }\n\n    .dataframe tbody tr th {\n        vertical-align: top;\n    }\n\n    .dataframe thead th {\n        text-align: right;\n    }\n</style>\n<table border=\"1\" class=\"dataframe\">\n  <thead>\n    <tr style=\"text-align: right;\">\n      <th></th>\n      <th>nb_clusters</th>\n      <th>silhouette_score</th>\n    </tr>\n  </thead>\n  <tbody>\n    <tr>\n      <th>0</th>\n      <td>2</td>\n      <td>0.287650</td>\n    </tr>\n    <tr>\n      <th>1</th>\n      <td>3</td>\n      <td>0.330490</td>\n    </tr>\n    <tr>\n      <th>2</th>\n      <td>4</td>\n      <td>0.344285</td>\n    </tr>\n    <tr>\n      <th>3</th>\n      <td>5</td>\n      <td>0.341344</td>\n    </tr>\n    <tr>\n      <th>4</th>\n      <td>6</td>\n      <td>0.289832</td>\n    </tr>\n    <tr>\n      <th>5</th>\n      <td>7</td>\n      <td>0.284213</td>\n    </tr>\n  </tbody>\n</table>\n</div>"
     },
     "execution_count": 22,
     "metadata": {},
     "output_type": "execute_result"
    },
    {
     "data": {
      "text/plain": "<Figure size 432x288 with 1 Axes>",
      "image/png": "[encoded data removed]"
     },
     "metadata": {
      "needs_background": "light"
     },
     "output_type": "display_data"
    }
   ],
   "source": [
    "from sklearn.cluster import AgglomerativeClustering\n",
    "from sklearn import metrics\n",
    "\n",
    "report = []\n",
    "for nb_clusters in range(2, 8):\n",
    "    agg_clustering = AgglomerativeClustering(n_clusters=nb_clusters).fit(\n",
    "        scaled_customers\n",
    "    )\n",
    "\n",
    "    report.append(\n",
    "        {\n",
    "            \"nb_clusters\": nb_clusters,\n",
    "            \"silhouette_score\": metrics.silhouette_score(\n",
    "                scaled_customers, agg_clustering.labels_\n",
    "            ),\n",
    "        }\n",
    "    )\n",
    "\n",
    "report = pd.DataFrame(report)\n",
    "report.plot(\n",
    "    title=\"Silhouette score versus nb of clusters\",\n",
    "    x=\"nb_clusters\",\n",
    "    y=\"silhouette_score\",\n",
    ")\n",
    "\n",
    "report"
   ],
   "metadata": {
    "collapsed": false,
    "pycharm": {
     "name": "#%%\n"
    }
   }
  },
  {
   "cell_type": "markdown",
   "source": [
    "Let's display the dendrogram to confirm that the optimal number of clusters is **4**.\n"
   ],
   "metadata": {
    "collapsed": false,
    "pycharm": {
     "name": "#%% md\n"
    }
   }
  },
  {
   "cell_type": "code",
   "execution_count": 23,
   "outputs": [],
   "source": [
    "import scipy.cluster.hierarchy as sch\n",
    "import plotly.figure_factory as ff\n",
    "\n",
    "fig = ff.create_dendrogram(\n",
    "    scaled_customers, linkagefun=lambda x: sch.linkage(x, \"ward\")\n",
    ")\n",
    "fig.update_layout(\n",
    "    title=\"Hierarchical Clustering\",\n",
    "    xaxis_title=\"Customers\",\n",
    "    yaxis_title=\"Euclidean Distance\",\n",
    "    width=700,\n",
    "    height=700,\n",
    ")\n",
    "\n",
    "fig.show()"
   ],
   "metadata": {
    "collapsed": false,
    "pycharm": {
     "name": "#%%\n"
    }
   }
  },
  {
   "cell_type": "markdown",
   "source": [
    "### Conclusions\n",
    "\n",
    "The hierarchical clustering is also in favor of 5 clusters to describe the dataset."
   ],
   "metadata": {
    "collapsed": false
   }
  }
 ],
 "metadata": {
  "kernelspec": {
   "display_name": "Python 3",
   "language": "python",
   "name": "python3"
  },
  "language_info": {
   "codemirror_mode": {
    "name": "ipython",
    "version": 2
   },
   "file_extension": ".py",
   "mimetype": "text/x-python",
   "name": "python",
   "nbconvert_exporter": "python",
   "pygments_lexer": "ipython2",
   "version": "2.7.6"
  }
 },
 "nbformat": 4,
 "nbformat_minor": 0
}