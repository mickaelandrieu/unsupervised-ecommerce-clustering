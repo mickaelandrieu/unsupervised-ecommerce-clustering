{
 "cells": [
  {
   "cell_type": "markdown",
   "metadata": {
    "collapsed": true,
    "pycharm": {
     "name": "#%% md\n"
    }
   },
   "source": [
    "# RFM clustering using Hierarchical Clustering\n",
    "\n",
    "## Agglomerative\n",
    "\n",
    "The principle is simple : at start all points are clusters and then using distance we try step by step to group clusters in bigger clusters.\n",
    "\n",
    "To do that, the algorithm consider two data:\n",
    "* the intra cluster variance ;\n",
    "* the inter cluster variance ;\n",
    "\n",
    "Like in K-Means, we need to define the number of clusters `n_clusters` and the `linkage` property.\n",
    "\n",
    "The `linkage` property determines which distance to use between observations."
   ]
  },
  {
   "cell_type": "code",
   "execution_count": 18,
   "outputs": [
    {
     "data": {
      "text/plain": "       recency  frequency  monetary  nb_orders          first_order  \\\n86359    147.0   0.166667    143.56        1.0  2018-04-04 21:53:53   \n42247    174.0   0.142857    159.03        1.0  2018-03-08 16:13:44   \n70502    114.0   0.200000    701.66        1.0  2018-05-07 22:52:58   \n1832     167.0   0.142857    184.56        1.0  2018-03-16 09:17:05   \n18729    583.0   0.050000     91.07        1.0  2017-01-24 09:24:11   \n\n                last_order  days_between_orders  scoring_R  scoring_F  \\\n86359  2018-04-04 21:53:53                    0          4          4   \n42247  2018-03-08 16:13:44                    0          4          3   \n70502  2018-05-07 22:52:58                    0          4          4   \n1832   2018-03-16 09:17:05                    0          4          3   \n18729  2017-01-24 09:24:11                    0          1          1   \n\n       scoring_M  scoring_RFM        segment_RFM  review_score  \\\n86359          4           12       Bons clients           5.0   \n42247          4           11       Bons clients           3.0   \n70502          5           13  Très bons clients           5.0   \n1832           4           11       Bons clients           1.0   \n18729          3            5     Clients tièdes           4.0   \n\n       review_completion_percentage   review_behavior  nb_products  \\\n86359                     33.333333  Best Contributor            3   \n42247                     66.666667  Best Contributor            1   \n70502                    100.000000  Best Contributor            1   \n1832                      66.666667  Best Contributor            1   \n18729                     66.666667  Best Contributor            1   \n\n       customer_zip_code_prefix          customer_city customer_state  \n86359                      6315            carapicuiba             SP  \n42247                      7841        franco da rocha             SP  \n70502                     18045               sorocaba             SP  \n1832                      23071         rio de janeiro             RJ  \n18729                     38735  cruzeiro da fortaleza             MG  ",
      "text/html": "<div>\n<style scoped>\n    .dataframe tbody tr th:only-of-type {\n        vertical-align: middle;\n    }\n\n    .dataframe tbody tr th {\n        vertical-align: top;\n    }\n\n    .dataframe thead th {\n        text-align: right;\n    }\n</style>\n<table border=\"1\" class=\"dataframe\">\n  <thead>\n    <tr style=\"text-align: right;\">\n      <th></th>\n      <th>recency</th>\n      <th>frequency</th>\n      <th>monetary</th>\n      <th>nb_orders</th>\n      <th>first_order</th>\n      <th>last_order</th>\n      <th>days_between_orders</th>\n      <th>scoring_R</th>\n      <th>scoring_F</th>\n      <th>scoring_M</th>\n      <th>scoring_RFM</th>\n      <th>segment_RFM</th>\n      <th>review_score</th>\n      <th>review_completion_percentage</th>\n      <th>review_behavior</th>\n      <th>nb_products</th>\n      <th>customer_zip_code_prefix</th>\n      <th>customer_city</th>\n      <th>customer_state</th>\n    </tr>\n  </thead>\n  <tbody>\n    <tr>\n      <th>86359</th>\n      <td>147.0</td>\n      <td>0.166667</td>\n      <td>143.56</td>\n      <td>1.0</td>\n      <td>2018-04-04 21:53:53</td>\n      <td>2018-04-04 21:53:53</td>\n      <td>0</td>\n      <td>4</td>\n      <td>4</td>\n      <td>4</td>\n      <td>12</td>\n      <td>Bons clients</td>\n      <td>5.0</td>\n      <td>33.333333</td>\n      <td>Best Contributor</td>\n      <td>3</td>\n      <td>6315</td>\n      <td>carapicuiba</td>\n      <td>SP</td>\n    </tr>\n    <tr>\n      <th>42247</th>\n      <td>174.0</td>\n      <td>0.142857</td>\n      <td>159.03</td>\n      <td>1.0</td>\n      <td>2018-03-08 16:13:44</td>\n      <td>2018-03-08 16:13:44</td>\n      <td>0</td>\n      <td>4</td>\n      <td>3</td>\n      <td>4</td>\n      <td>11</td>\n      <td>Bons clients</td>\n      <td>3.0</td>\n      <td>66.666667</td>\n      <td>Best Contributor</td>\n      <td>1</td>\n      <td>7841</td>\n      <td>franco da rocha</td>\n      <td>SP</td>\n    </tr>\n    <tr>\n      <th>70502</th>\n      <td>114.0</td>\n      <td>0.200000</td>\n      <td>701.66</td>\n      <td>1.0</td>\n      <td>2018-05-07 22:52:58</td>\n      <td>2018-05-07 22:52:58</td>\n      <td>0</td>\n      <td>4</td>\n      <td>4</td>\n      <td>5</td>\n      <td>13</td>\n      <td>Très bons clients</td>\n      <td>5.0</td>\n      <td>100.000000</td>\n      <td>Best Contributor</td>\n      <td>1</td>\n      <td>18045</td>\n      <td>sorocaba</td>\n      <td>SP</td>\n    </tr>\n    <tr>\n      <th>1832</th>\n      <td>167.0</td>\n      <td>0.142857</td>\n      <td>184.56</td>\n      <td>1.0</td>\n      <td>2018-03-16 09:17:05</td>\n      <td>2018-03-16 09:17:05</td>\n      <td>0</td>\n      <td>4</td>\n      <td>3</td>\n      <td>4</td>\n      <td>11</td>\n      <td>Bons clients</td>\n      <td>1.0</td>\n      <td>66.666667</td>\n      <td>Best Contributor</td>\n      <td>1</td>\n      <td>23071</td>\n      <td>rio de janeiro</td>\n      <td>RJ</td>\n    </tr>\n    <tr>\n      <th>18729</th>\n      <td>583.0</td>\n      <td>0.050000</td>\n      <td>91.07</td>\n      <td>1.0</td>\n      <td>2017-01-24 09:24:11</td>\n      <td>2017-01-24 09:24:11</td>\n      <td>0</td>\n      <td>1</td>\n      <td>1</td>\n      <td>3</td>\n      <td>5</td>\n      <td>Clients tièdes</td>\n      <td>4.0</td>\n      <td>66.666667</td>\n      <td>Best Contributor</td>\n      <td>1</td>\n      <td>38735</td>\n      <td>cruzeiro da fortaleza</td>\n      <td>MG</td>\n    </tr>\n  </tbody>\n</table>\n</div>"
     },
     "execution_count": 18,
     "metadata": {},
     "output_type": "execute_result"
    }
   ],
   "source": [
    "import pandas as pd\n",
    "import plotly.express as px\n",
    "from sklearn.model_selection import train_test_split\n",
    "\n",
    "rfmsppl = pd.read_csv(\"./../../../output/rfmsppl.csv\")\n",
    "\n",
    "y = rfmsppl[\"review_score\"]\n",
    "\n",
    "X_train, X_test, y_train, y_test = train_test_split(\n",
    "    rfmsppl, y, test_size=0.2, random_state=42, stratify=y\n",
    ")\n",
    "rfmsppl = X_test\n",
    "\n",
    "rfmsppl.head()"
   ],
   "metadata": {
    "collapsed": false,
    "pycharm": {
     "name": "#%%\n"
    }
   }
  },
  {
   "cell_type": "markdown",
   "source": [
    "We scale the data:"
   ],
   "metadata": {
    "collapsed": false
   }
  },
  {
   "cell_type": "code",
   "execution_count": null,
   "outputs": [],
   "source": [
    "from sklearn.preprocessing import StandardScaler, OneHotEncoder\n",
    "\n",
    "encoder = OneHotEncoder()\n",
    "ordinal_vars = rfmsppl[rfmsppl.select_dtypes(include=[\"object\", \"category\"]).columns]\n",
    "encoder.fit(ordinal_vars)\n",
    "\n",
    "encoded_customers = encoder.transform(ordinal_vars)\n",
    "scalar_vars = rfmsppl[\n",
    "    rfmsppl.select_dtypes(exclude=[\"object\", \"category\"]).columns\n",
    "].values\n",
    "\n",
    "scaler = StandardScaler()\n",
    "\n",
    "scalar_vars = pd.concat(\n",
    "    [pd.DataFrame(scalar_vars), pd.DataFrame(encoded_customers)], axis=1\n",
    ")\n",
    "scaler.fit(scalar_vars)\n",
    "\n",
    "scaled_customers = scaler.transform(scalar_vars)\n",
    "\n",
    "scaled_customers"
   ],
   "metadata": {
    "collapsed": false,
    "pycharm": {
     "name": "#%%\n",
     "is_executing": true
    }
   }
  },
  {
   "cell_type": "code",
   "execution_count": 19,
   "outputs": [
    {
     "name": "stdout",
     "output_type": "stream",
     "text": [
      "ERROR! Session/line number was not unique in database. History logging moved to new session 370\n"
     ]
    },
    {
     "name": "stderr",
     "output_type": "stream",
     "text": [
      "\n",
      "KeyboardInterrupt\n",
      "\n"
     ]
    }
   ],
   "source": [
    "from sklearn.cluster import AgglomerativeClustering\n",
    "from sklearn import metrics\n",
    "\n",
    "report = []\n",
    "linkage_methods = [\"ward\", \"single\", \"average\", \"complete\"]\n",
    "affinities = [\"euclidean\", \"l1\", \"l2\", \"manhattan\", \"cosine\"]\n",
    "for nb_clusters in range(2, 8):\n",
    "    for linkage_method in linkage_methods:\n",
    "        for affinity in affinities:\n",
    "            if linkage_method == \"ward\" and affinity != \"euclidean\":\n",
    "                continue\n",
    "            agg_clustering = AgglomerativeClustering(\n",
    "                n_clusters=nb_clusters,\n",
    "                linkage=linkage_method,\n",
    "                affinity=affinity,\n",
    "                compute_full_tree=False,\n",
    "            ).fit(scaled_customers)\n",
    "\n",
    "            report.append(\n",
    "                {\n",
    "                    \"nb_clusters\": nb_clusters,\n",
    "                    \"silhouette_score\": metrics.silhouette_score(\n",
    "                        scaled_customers, agg_clustering.labels_\n",
    "                    ),\n",
    "                    \"linkage_method\": linkage_method,\n",
    "                    \"affinity\": affinity,\n",
    "                }\n",
    "            )\n",
    "\n",
    "report = pd.DataFrame(report)\n",
    "print(report)\n",
    "for affinity in affinities:\n",
    "    report_affinity = report[report.affinity == affinity]\n",
    "    fig = px.line(\n",
    "        report_affinity,\n",
    "        title=\"Silhouette score versus nb of clusters ({0})\".format(affinity),\n",
    "        x=\"nb_clusters\",\n",
    "        y=\"silhouette_score\",\n",
    "        color=\"linkage_method\",\n",
    "    )\n",
    "\n",
    "    fig.show()"
   ],
   "metadata": {
    "collapsed": false,
    "pycharm": {
     "name": "#%%\n"
    }
   }
  },
  {
   "cell_type": "markdown",
   "source": [
    "Let's display the dendrogram to confirm that the optimal number of clusters is **4** for average method and l2 as affinity parameter.\n"
   ],
   "metadata": {
    "collapsed": false,
    "pycharm": {
     "name": "#%% md\n"
    }
   }
  },
  {
   "cell_type": "code",
   "execution_count": null,
   "outputs": [],
   "source": [
    "from scipy.cluster.hierarchy import linkage, dendrogram\n",
    "import matplotlib.pyplot as plt\n",
    "\n",
    "Z = linkage(scaled_customers, method=\"average\")\n",
    "\n",
    "fig = plt.figure(figsize=(16, 8))\n",
    "dendrogram(Z, orientation=\"left\", truncate_mode=\"level\", p=4)\n",
    "\n",
    "plt.show()"
   ],
   "metadata": {
    "collapsed": false,
    "pycharm": {
     "name": "#%%\n"
    }
   }
  },
  {
   "cell_type": "code",
   "execution_count": null,
   "outputs": [],
   "source": [
    "agg_clustering = AgglomerativeClustering(\n",
    "    n_clusters=5, linkage=\"ward\", affinity=\"euclidean\", compute_full_tree=False\n",
    ").fit(scaled_customers)\n",
    "\n",
    "rfmsppl[\"cluster\"] = agg_clustering.labels_\n",
    "rfmsppl[\"cluster\"] = rfmsppl[\"cluster\"].astype(\"category\")\n",
    "\n",
    "print(rfmsppl[\"cluster\"].value_counts())"
   ],
   "metadata": {
    "collapsed": false,
    "pycharm": {
     "name": "#%%\n"
    }
   }
  },
  {
   "cell_type": "markdown",
   "source": [
    "#### Clustering visualisation"
   ],
   "metadata": {
    "collapsed": false
   }
  },
  {
   "cell_type": "code",
   "execution_count": null,
   "outputs": [],
   "source": [
    "from sklearn.manifold import TSNE\n",
    "import plotly.express as px\n",
    "\n",
    "tsne = TSNE(n_components=2, learning_rate=\"auto\", init=\"random\", n_jobs=-1)\n",
    "projected_customers = tsne.fit_transform(scaled_customers)\n",
    "\n",
    "fig = px.scatter(\n",
    "    projected_customers,\n",
    "    x=0,\n",
    "    y=1,\n",
    "    color=rfmsppl.cluster,\n",
    "    labels={\"color\": \"cluster\"},\n",
    "    opacity=0.8,\n",
    ")\n",
    "fig.show()"
   ],
   "metadata": {
    "collapsed": false,
    "pycharm": {
     "name": "#%%\n"
    }
   }
  },
  {
   "cell_type": "code",
   "execution_count": null,
   "outputs": [],
   "source": [
    "# cluster for value equals to -1 is noise\n",
    "fig2 = px.scatter_3d(rfmsppl, x=\"recency\", y=\"monetary\", z=\"frequency\", color=\"cluster\")\n",
    "fig2.show()"
   ],
   "metadata": {
    "collapsed": false,
    "pycharm": {
     "name": "#%%\n"
    }
   }
  },
  {
   "cell_type": "markdown",
   "source": [
    "### Conclusions\n",
    "\n",
    "The hierarchical clustering is in favor of 4 clusters to describe the dataset and have the best performance silhouette score but a really poor clustering performance.\n",
    "\n",
    "We can't use it as the best model."
   ],
   "metadata": {
    "collapsed": false
   }
  }
 ],
 "metadata": {
  "kernelspec": {
   "display_name": "Python 3",
   "language": "python",
   "name": "python3"
  },
  "language_info": {
   "codemirror_mode": {
    "name": "ipython",
    "version": 2
   },
   "file_extension": ".py",
   "mimetype": "text/x-python",
   "name": "python",
   "nbconvert_exporter": "python",
   "pygments_lexer": "ipython2",
   "version": "2.7.6"
  }
 },
 "nbformat": 4,
 "nbformat_minor": 0
}