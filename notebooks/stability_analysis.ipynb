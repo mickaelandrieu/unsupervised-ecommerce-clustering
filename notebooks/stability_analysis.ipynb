{
 "cells": [
  {
   "cell_type": "markdown",
   "metadata": {
    "collapsed": true,
    "pycharm": {
     "name": "#%% md\n"
    }
   },
   "source": [
    "# Stability analysis of model\n",
    "\n",
    "Now the objective is to select the best model and to ensure its validity over time.\n",
    "\n",
    "How can we evaluate our model choice ? This is the protocol I will follow for each of the selected amounts of time : month, trimester, semester.\n",
    "\n",
    "1. Train the best model on the first period of time __m<sup>1</sup>__\n",
    "2. Train the best model on the _n<sup>th</sup>_ periods of time __m<sup>th</sup>__\n",
    "3. At each iteration, compare the clustering fit from __m<sup>1</sup>__ to __m<sup>th</sup>__ using ARI score\n",
    "4. Plot and decide for which period of time the model is stable\n",
    "\n",
    "Theses are the results of the experiments :\n",
    "\n",
    "| Clustering   | Silhouette Score | Clusters | Model |\n",
    "|--------------|------------------|----------|-------|\n",
    "| KMeans       | 0.35             | 4        | RFM   |\n",
    "| CAH          | 0.43             | 5        | RFM   |\n",
    "| DBSCAN       | 0.64             | 2        | RFM   |\n",
    "| KMeans       | 0.30             | 6        | RFMS  |\n",
    "| K-Prototypes | 0.30             | 4        | RFMS  |\n",
    "| DBSCAN       | 0.61             | 2        | RFMS  |\n",
    "| CAH          | 0.34             | 2        | RFMS  |\n",
    "| KMeans       | 0.35             | 7        | RMS   |\n",
    "| DBSCAN       | 0.76             | 2        | RMS   |\n",
    "| CAH          | 0.42             | 2        | RMS   |\n",
    "\n",
    "\n",
    "From the experiments done until then, the best model is DBSCAN but we can't really work with 2 clusters."
   ]
  },
  {
   "cell_type": "code",
   "execution_count": 3,
   "outputs": [],
   "source": [
    "import pandas as pd\n",
    "import plotly.graph_objects as go\n",
    "\n",
    "\n",
    "def plot_clusters_radars(df: pd.DataFrame):\n",
    "    \"\"\"\n",
    "    Display a radar for every cluster\n",
    "\n",
    "    :param df: the dataframe with the clusters\n",
    "    :return: void\n",
    "    \"\"\"\n",
    "    fig = go.Figure()\n",
    "\n",
    "    for cluster in df[\"cluster\"]:\n",
    "        fig.add_trace(\n",
    "            go.Scatterpolar(\n",
    "                r=df[df[\"cluster\"] == cluster].iloc[:, 1:].values.reshape(-1),\n",
    "                theta=df.columns[1:],\n",
    "                fill=\"toself\",\n",
    "                name=\"Cluster \" + str(cluster),\n",
    "            )\n",
    "        )\n",
    "\n",
    "    fig.update_layout(\n",
    "        polar=dict(radialaxis=dict(visible=True, range=[0, 1])),\n",
    "        showlegend=True,\n",
    "        title={\n",
    "            \"text\": \"Mean Comparison of Variables per Cluster\",\n",
    "            \"y\": 0.95,\n",
    "            \"x\": 0.5,\n",
    "            \"xanchor\": \"center\",\n",
    "            \"yanchor\": \"top\",\n",
    "        },\n",
    "        title_font_color=\"blue\",\n",
    "        title_font_size=18,\n",
    "    )\n",
    "\n",
    "    fig.show()"
   ],
   "metadata": {
    "collapsed": false,
    "pycharm": {
     "name": "#%%\n"
    }
   }
  },
  {
   "cell_type": "code",
   "execution_count": null,
   "outputs": [],
   "source": [],
   "metadata": {
    "collapsed": false,
    "pycharm": {
     "name": "#%%\n"
    }
   }
  }
 ],
 "metadata": {
  "kernelspec": {
   "display_name": "Python 3",
   "language": "python",
   "name": "python3"
  },
  "language_info": {
   "codemirror_mode": {
    "name": "ipython",
    "version": 2
   },
   "file_extension": ".py",
   "mimetype": "text/x-python",
   "name": "python",
   "nbconvert_exporter": "python",
   "pygments_lexer": "ipython2",
   "version": "2.7.6"
  }
 },
 "nbformat": 4,
 "nbformat_minor": 0
}