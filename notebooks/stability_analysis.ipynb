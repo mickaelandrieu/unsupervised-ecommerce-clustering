{
 "cells": [
  {
   "cell_type": "markdown",
   "metadata": {
    "collapsed": true,
    "pycharm": {
     "name": "#%% md\n"
    }
   },
   "source": [
    "# Stability analysis of model\n",
    "\n",
    "Now the objective is to select the best model and to ensure its validity over time.\n",
    "\n",
    "How can we evaluate our model choice ? This is the protocol I will follow for each of the selected amounts of time in months\n",
    "\n",
    "1. Train the best model on the first period of time __m<sup>1</sup>__\n",
    "2. Train the best model on the _n<sup>th</sup>_ periods of time __m<sup>th</sup>__\n",
    "3. At each iteration, compare the clustering fit from __m<sup>1</sup>__ to __m<sup>th</sup>__ using ARI score\n",
    "4. Plot and decide for which period of time the model is stable\n",
    "\n",
    "Theses are the results of the experiments :\n",
    "\n",
    "| Clustering   | Silhouette Score | Clusters | Model   |\n",
    "|--------------|------------------|----------|---------|\n",
    "| KMeans       | 0.35             | 4        | RFM     |\n",
    "| **CAH**      | **0.43**         | **5**    | **RFM** |\n",
    "| DBSCAN       | 0.64             | 2        | RFM     |\n",
    "| KMeans       | 0.30             | 6        | RFMS    |\n",
    "| K-Prototypes | 0.30             | 4        | RFMS    |\n",
    "| DBSCAN       | 0.61             | 2        | RFMS    |\n",
    "| CAH          | 0.34             | 2        | RFMS    |\n",
    "| KMeans       | 0.35             | 7        | RMS     |\n",
    "| DBSCAN       | 0.76             | 2        | RMS     |\n",
    "| CAH          | 0.42             | 2        | RMS     |\n",
    "| CAH          | **0.83**         | 4        | RMSPPL  |\n",
    "| DBSCAN       | 0.20             | 4        | RMSPPL  |\n",
    "| K-Prototypes | 0.15             | 4        | RMSPPL  |\n",
    "| KMeans       | 0.23             | 4        | RMSPPL  |\n",
    "\n",
    "\n",
    "From the experiments done until then, the best model is CAH regarding silhouette score but have a really bad clustering performance only by using RFM.\n",
    "\n",
    "To filter by period, we will"
   ]
  },
  {
   "cell_type": "markdown",
   "metadata": {
    "collapsed": false,
    "pycharm": {
     "name": "#%% md\n"
    }
   },
   "source": [
    "## 1 - Evaluating the stability of the model on monthly basis"
   ]
  },
  {
   "cell_type": "code",
   "execution_count": 46,
   "metadata": {
    "collapsed": false,
    "pycharm": {
     "name": "#%%\n"
    }
   },
   "outputs": [
    {
     "data": {
      "text/plain": "       recency  frequency  monetary  nb_orders         first_order  \\\n0        112.0   0.200000    141.90        1.0 2018-05-10 10:56:27   \n1        115.0   0.200000     27.19        1.0 2018-05-07 11:11:27   \n2        537.0   0.052632     86.22        1.0 2017-03-10 21:05:03   \n3        321.0   0.083333     43.62        1.0 2017-10-12 20:29:41   \n4        288.0   0.090909    196.89        1.0 2017-11-14 19:45:42   \n...        ...        ...       ...        ...                 ...   \n88135    245.0   0.111111    167.32        1.0 2017-12-27 22:36:41   \n88136    262.0   0.100000     84.58        1.0 2017-12-10 20:07:56   \n88137    568.0   0.050000    112.46        1.0 2017-02-07 15:49:16   \n88138    119.0   0.200000    133.69        1.0 2018-05-02 15:17:41   \n88139    484.0   0.058824     71.56        1.0 2017-05-02 20:18:45   \n\n               last_order  days_between_orders  scoring_R  scoring_F  \\\n0     2018-05-10 10:56:27                    0          4          4   \n1     2018-05-07 11:11:27                    0          4          4   \n2     2017-03-10 21:05:03                    0          1          1   \n3     2017-10-12 20:29:41                    0          2          2   \n4     2017-11-14 19:45:42                    0          2          2   \n...                   ...                  ...        ...        ...   \n88135 2017-12-27 22:36:41                    0          3          3   \n88136 2017-12-10 20:07:56                    0          3          2   \n88137 2017-02-07 15:49:16                    0          1          1   \n88138 2018-05-02 15:17:41                    0          4          4   \n88139 2017-05-02 20:18:45                    0          1          1   \n\n       scoring_M  ...  customer_zip_code_prefix       customer_city  \\\n0              4  ...                      7787             cajamar   \n1              1  ...                      6053              osasco   \n2              2  ...                     88115            sao jose   \n3              1  ...                     66812               belem   \n4              4  ...                     18040            sorocaba   \n...          ...  ...                       ...                 ...   \n88135          4  ...                     60055           fortaleza   \n88136          2  ...                     44054    feira de santana   \n88137          3  ...                     78552               sinop   \n88138          4  ...                     29460  bom jesus do norte   \n88139          2  ...                     83608         campo largo   \n\n       customer_state  scoring_PR payment_sequential  payment_installments  \\\n0                  SP           1                1.0                   8.0   \n1                  SP           1                1.0                   1.0   \n2                  SC           1                1.0                   8.0   \n3                  PA           1                1.0                   4.0   \n4                  SP           1                1.0                   6.0   \n...               ...         ...                ...                   ...   \n88135              CE           9                1.0                   2.0   \n88136              BA           9                1.0                   1.0   \n88137              MT           9                1.0                   1.0   \n88138              ES           9                1.0                   5.0   \n88139              PR           9                1.0                   4.0   \n\n       payment_value_boleto payment_value_voucher payment_value_credit_card  \\\n0                       0.0                   0.0                141.899994   \n1                       0.0                   0.0                 27.190001   \n2                       0.0                   0.0                 86.220001   \n3                       0.0                   0.0                 43.619999   \n4                       0.0                   0.0                196.889999   \n...                     ...                   ...                       ...   \n88135                   0.0                   0.0                167.320007   \n88136                   0.0                   0.0                 84.580002   \n88137                   0.0                   0.0                112.459999   \n88138                   0.0                   0.0                133.690002   \n88139                   0.0                   0.0                 71.559998   \n\n       payment_value_debit_card  \n0                           0.0  \n1                           0.0  \n2                           0.0  \n3                           0.0  \n4                           0.0  \n...                         ...  \n88135                       0.0  \n88136                       0.0  \n88137                       0.0  \n88138                       0.0  \n88139                       0.0  \n\n[88140 rows x 26 columns]",
      "text/html": "<div>\n<style scoped>\n    .dataframe tbody tr th:only-of-type {\n        vertical-align: middle;\n    }\n\n    .dataframe tbody tr th {\n        vertical-align: top;\n    }\n\n    .dataframe thead th {\n        text-align: right;\n    }\n</style>\n<table border=\"1\" class=\"dataframe\">\n  <thead>\n    <tr style=\"text-align: right;\">\n      <th></th>\n      <th>recency</th>\n      <th>frequency</th>\n      <th>monetary</th>\n      <th>nb_orders</th>\n      <th>first_order</th>\n      <th>last_order</th>\n      <th>days_between_orders</th>\n      <th>scoring_R</th>\n      <th>scoring_F</th>\n      <th>scoring_M</th>\n      <th>...</th>\n      <th>customer_zip_code_prefix</th>\n      <th>customer_city</th>\n      <th>customer_state</th>\n      <th>scoring_PR</th>\n      <th>payment_sequential</th>\n      <th>payment_installments</th>\n      <th>payment_value_boleto</th>\n      <th>payment_value_voucher</th>\n      <th>payment_value_credit_card</th>\n      <th>payment_value_debit_card</th>\n    </tr>\n  </thead>\n  <tbody>\n    <tr>\n      <th>0</th>\n      <td>112.0</td>\n      <td>0.200000</td>\n      <td>141.90</td>\n      <td>1.0</td>\n      <td>2018-05-10 10:56:27</td>\n      <td>2018-05-10 10:56:27</td>\n      <td>0</td>\n      <td>4</td>\n      <td>4</td>\n      <td>4</td>\n      <td>...</td>\n      <td>7787</td>\n      <td>cajamar</td>\n      <td>SP</td>\n      <td>1</td>\n      <td>1.0</td>\n      <td>8.0</td>\n      <td>0.0</td>\n      <td>0.0</td>\n      <td>141.899994</td>\n      <td>0.0</td>\n    </tr>\n    <tr>\n      <th>1</th>\n      <td>115.0</td>\n      <td>0.200000</td>\n      <td>27.19</td>\n      <td>1.0</td>\n      <td>2018-05-07 11:11:27</td>\n      <td>2018-05-07 11:11:27</td>\n      <td>0</td>\n      <td>4</td>\n      <td>4</td>\n      <td>1</td>\n      <td>...</td>\n      <td>6053</td>\n      <td>osasco</td>\n      <td>SP</td>\n      <td>1</td>\n      <td>1.0</td>\n      <td>1.0</td>\n      <td>0.0</td>\n      <td>0.0</td>\n      <td>27.190001</td>\n      <td>0.0</td>\n    </tr>\n    <tr>\n      <th>2</th>\n      <td>537.0</td>\n      <td>0.052632</td>\n      <td>86.22</td>\n      <td>1.0</td>\n      <td>2017-03-10 21:05:03</td>\n      <td>2017-03-10 21:05:03</td>\n      <td>0</td>\n      <td>1</td>\n      <td>1</td>\n      <td>2</td>\n      <td>...</td>\n      <td>88115</td>\n      <td>sao jose</td>\n      <td>SC</td>\n      <td>1</td>\n      <td>1.0</td>\n      <td>8.0</td>\n      <td>0.0</td>\n      <td>0.0</td>\n      <td>86.220001</td>\n      <td>0.0</td>\n    </tr>\n    <tr>\n      <th>3</th>\n      <td>321.0</td>\n      <td>0.083333</td>\n      <td>43.62</td>\n      <td>1.0</td>\n      <td>2017-10-12 20:29:41</td>\n      <td>2017-10-12 20:29:41</td>\n      <td>0</td>\n      <td>2</td>\n      <td>2</td>\n      <td>1</td>\n      <td>...</td>\n      <td>66812</td>\n      <td>belem</td>\n      <td>PA</td>\n      <td>1</td>\n      <td>1.0</td>\n      <td>4.0</td>\n      <td>0.0</td>\n      <td>0.0</td>\n      <td>43.619999</td>\n      <td>0.0</td>\n    </tr>\n    <tr>\n      <th>4</th>\n      <td>288.0</td>\n      <td>0.090909</td>\n      <td>196.89</td>\n      <td>1.0</td>\n      <td>2017-11-14 19:45:42</td>\n      <td>2017-11-14 19:45:42</td>\n      <td>0</td>\n      <td>2</td>\n      <td>2</td>\n      <td>4</td>\n      <td>...</td>\n      <td>18040</td>\n      <td>sorocaba</td>\n      <td>SP</td>\n      <td>1</td>\n      <td>1.0</td>\n      <td>6.0</td>\n      <td>0.0</td>\n      <td>0.0</td>\n      <td>196.889999</td>\n      <td>0.0</td>\n    </tr>\n    <tr>\n      <th>...</th>\n      <td>...</td>\n      <td>...</td>\n      <td>...</td>\n      <td>...</td>\n      <td>...</td>\n      <td>...</td>\n      <td>...</td>\n      <td>...</td>\n      <td>...</td>\n      <td>...</td>\n      <td>...</td>\n      <td>...</td>\n      <td>...</td>\n      <td>...</td>\n      <td>...</td>\n      <td>...</td>\n      <td>...</td>\n      <td>...</td>\n      <td>...</td>\n      <td>...</td>\n      <td>...</td>\n    </tr>\n    <tr>\n      <th>88135</th>\n      <td>245.0</td>\n      <td>0.111111</td>\n      <td>167.32</td>\n      <td>1.0</td>\n      <td>2017-12-27 22:36:41</td>\n      <td>2017-12-27 22:36:41</td>\n      <td>0</td>\n      <td>3</td>\n      <td>3</td>\n      <td>4</td>\n      <td>...</td>\n      <td>60055</td>\n      <td>fortaleza</td>\n      <td>CE</td>\n      <td>9</td>\n      <td>1.0</td>\n      <td>2.0</td>\n      <td>0.0</td>\n      <td>0.0</td>\n      <td>167.320007</td>\n      <td>0.0</td>\n    </tr>\n    <tr>\n      <th>88136</th>\n      <td>262.0</td>\n      <td>0.100000</td>\n      <td>84.58</td>\n      <td>1.0</td>\n      <td>2017-12-10 20:07:56</td>\n      <td>2017-12-10 20:07:56</td>\n      <td>0</td>\n      <td>3</td>\n      <td>2</td>\n      <td>2</td>\n      <td>...</td>\n      <td>44054</td>\n      <td>feira de santana</td>\n      <td>BA</td>\n      <td>9</td>\n      <td>1.0</td>\n      <td>1.0</td>\n      <td>0.0</td>\n      <td>0.0</td>\n      <td>84.580002</td>\n      <td>0.0</td>\n    </tr>\n    <tr>\n      <th>88137</th>\n      <td>568.0</td>\n      <td>0.050000</td>\n      <td>112.46</td>\n      <td>1.0</td>\n      <td>2017-02-07 15:49:16</td>\n      <td>2017-02-07 15:49:16</td>\n      <td>0</td>\n      <td>1</td>\n      <td>1</td>\n      <td>3</td>\n      <td>...</td>\n      <td>78552</td>\n      <td>sinop</td>\n      <td>MT</td>\n      <td>9</td>\n      <td>1.0</td>\n      <td>1.0</td>\n      <td>0.0</td>\n      <td>0.0</td>\n      <td>112.459999</td>\n      <td>0.0</td>\n    </tr>\n    <tr>\n      <th>88138</th>\n      <td>119.0</td>\n      <td>0.200000</td>\n      <td>133.69</td>\n      <td>1.0</td>\n      <td>2018-05-02 15:17:41</td>\n      <td>2018-05-02 15:17:41</td>\n      <td>0</td>\n      <td>4</td>\n      <td>4</td>\n      <td>4</td>\n      <td>...</td>\n      <td>29460</td>\n      <td>bom jesus do norte</td>\n      <td>ES</td>\n      <td>9</td>\n      <td>1.0</td>\n      <td>5.0</td>\n      <td>0.0</td>\n      <td>0.0</td>\n      <td>133.690002</td>\n      <td>0.0</td>\n    </tr>\n    <tr>\n      <th>88139</th>\n      <td>484.0</td>\n      <td>0.058824</td>\n      <td>71.56</td>\n      <td>1.0</td>\n      <td>2017-05-02 20:18:45</td>\n      <td>2017-05-02 20:18:45</td>\n      <td>0</td>\n      <td>1</td>\n      <td>1</td>\n      <td>2</td>\n      <td>...</td>\n      <td>83608</td>\n      <td>campo largo</td>\n      <td>PR</td>\n      <td>9</td>\n      <td>1.0</td>\n      <td>4.0</td>\n      <td>0.0</td>\n      <td>0.0</td>\n      <td>71.559998</td>\n      <td>0.0</td>\n    </tr>\n  </tbody>\n</table>\n<p>88140 rows × 26 columns</p>\n</div>"
     },
     "execution_count": 46,
     "metadata": {},
     "output_type": "execute_result"
    }
   ],
   "source": [
    "import pandas as pd\n",
    "from sklearn.preprocessing import StandardScaler, OneHotEncoder\n",
    "from sklearn.metrics import adjusted_rand_score\n",
    "from sklearn.cluster import AgglomerativeClustering\n",
    "\n",
    "customers = pd.read_csv(\n",
    "    \"./../output/rfmsppl.csv\", parse_dates=[\"first_order\", \"last_order\"]\n",
    ")\n",
    "\n",
    "customers"
   ]
  },
  {
   "cell_type": "markdown",
   "metadata": {
    "collapsed": false,
    "pycharm": {
     "name": "#%% md\n"
    }
   },
   "source": [
    "First we need to segment the database into month pieces !\n",
    "\n",
    "The dataset got its first order in September of 2016 and its last order in August of 2018, it's 25 months of data but data of these first month and last month are incomplete\n",
    "so we will consider the period of time from October of 2016 to July of 2017."
   ]
  },
  {
   "cell_type": "code",
   "execution_count": 47,
   "metadata": {
    "collapsed": false,
    "pycharm": {
     "name": "#%%\n"
    }
   },
   "outputs": [
    {
     "name": "stdout",
     "output_type": "stream",
     "text": [
      "2016-10-03 16:56:50 2018-08-29 15:00:37\n",
      "[1, 4, 5, 6, 7, 8, 9, 10, 11, 12, 13, 14, 15, 16, 17, 18, 19, 20, 21, 22, 23, 24]\n"
     ]
    }
   ],
   "source": [
    "min_order = customers[\"first_order\"].min()\n",
    "\n",
    "customers[\"month_group\"] = 0\n",
    "customers.loc[:, \"months_since_first\"] = (\n",
    "    round((customers[\"first_order\"] - min_order).dt.days / 30) + 1\n",
    ")\n",
    "customers[\"month_group\"] = customers[\"months_since_first\"].astype(\"int\")\n",
    "\n",
    "distributed_customers = customers.copy()\n",
    "\n",
    "print(\n",
    "    distributed_customers[\"first_order\"].min(),\n",
    "    distributed_customers[\"first_order\"].max(),\n",
    ")\n",
    "print(sorted(distributed_customers[\"month_group\"].unique()))"
   ]
  },
  {
   "cell_type": "code",
   "execution_count": 48,
   "metadata": {
    "collapsed": false,
    "pycharm": {
     "name": "#%%\n"
    }
   },
   "outputs": [
    {
     "data": {
      "text/plain": "Empty DataFrame\nColumns: [recency, frequency, monetary, nb_orders, first_order, last_order, days_between_orders, scoring_R, scoring_F, scoring_M, scoring_RFM, segment_RFM, review_score, review_completion_percentage, review_behavior, nb_products, customer_zip_code_prefix, customer_city, customer_state, scoring_PR, payment_sequential, payment_installments, payment_value_boleto, payment_value_voucher, payment_value_credit_card, payment_value_debit_card, month_group, months_since_first]\nIndex: []\n\n[0 rows x 28 columns]",
      "text/html": "<div>\n<style scoped>\n    .dataframe tbody tr th:only-of-type {\n        vertical-align: middle;\n    }\n\n    .dataframe tbody tr th {\n        vertical-align: top;\n    }\n\n    .dataframe thead th {\n        text-align: right;\n    }\n</style>\n<table border=\"1\" class=\"dataframe\">\n  <thead>\n    <tr style=\"text-align: right;\">\n      <th></th>\n      <th>recency</th>\n      <th>frequency</th>\n      <th>monetary</th>\n      <th>nb_orders</th>\n      <th>first_order</th>\n      <th>last_order</th>\n      <th>days_between_orders</th>\n      <th>scoring_R</th>\n      <th>scoring_F</th>\n      <th>scoring_M</th>\n      <th>...</th>\n      <th>customer_state</th>\n      <th>scoring_PR</th>\n      <th>payment_sequential</th>\n      <th>payment_installments</th>\n      <th>payment_value_boleto</th>\n      <th>payment_value_voucher</th>\n      <th>payment_value_credit_card</th>\n      <th>payment_value_debit_card</th>\n      <th>month_group</th>\n      <th>months_since_first</th>\n    </tr>\n  </thead>\n  <tbody>\n  </tbody>\n</table>\n<p>0 rows × 28 columns</p>\n</div>"
     },
     "execution_count": 48,
     "metadata": {},
     "output_type": "execute_result"
    }
   ],
   "source": [
    "# No orders on November 2016 ? WTF\n",
    "distributed_customers[\n",
    "    (distributed_customers.first_order.dt.year == 2016)\n",
    "    & (distributed_customers.first_order.dt.month == 11)\n",
    "]"
   ]
  },
  {
   "cell_type": "code",
   "execution_count": 49,
   "metadata": {
    "collapsed": false,
    "pycharm": {
     "name": "#%%\n"
    }
   },
   "outputs": [
    {
     "data": {
      "text/plain": "       recency  frequency  monetary  nb_orders         first_order  \\\n0        112.0   0.200000    141.90        1.0 2018-05-10 10:56:27   \n1        115.0   0.200000     27.19        1.0 2018-05-07 11:11:27   \n2        537.0   0.052632     86.22        1.0 2017-03-10 21:05:03   \n3        321.0   0.083333     43.62        1.0 2017-10-12 20:29:41   \n4        288.0   0.090909    196.89        1.0 2017-11-14 19:45:42   \n...        ...        ...       ...        ...                 ...   \n88135    245.0   0.111111    167.32        1.0 2017-12-27 22:36:41   \n88136    262.0   0.100000     84.58        1.0 2017-12-10 20:07:56   \n88137    568.0   0.050000    112.46        1.0 2017-02-07 15:49:16   \n88138    119.0   0.200000    133.69        1.0 2018-05-02 15:17:41   \n88139    484.0   0.058824     71.56        1.0 2017-05-02 20:18:45   \n\n               last_order  days_between_orders  scoring_R  scoring_F  \\\n0     2018-05-10 10:56:27                    0          4          4   \n1     2018-05-07 11:11:27                    0          4          4   \n2     2017-03-10 21:05:03                    0          1          1   \n3     2017-10-12 20:29:41                    0          2          2   \n4     2017-11-14 19:45:42                    0          2          2   \n...                   ...                  ...        ...        ...   \n88135 2017-12-27 22:36:41                    0          3          3   \n88136 2017-12-10 20:07:56                    0          3          2   \n88137 2017-02-07 15:49:16                    0          1          1   \n88138 2018-05-02 15:17:41                    0          4          4   \n88139 2017-05-02 20:18:45                    0          1          1   \n\n       scoring_M  ...  customer_state scoring_PR  payment_sequential  \\\n0              4  ...              SP          1                 1.0   \n1              1  ...              SP          1                 1.0   \n2              2  ...              SC          1                 1.0   \n3              1  ...              PA          1                 1.0   \n4              4  ...              SP          1                 1.0   \n...          ...  ...             ...        ...                 ...   \n88135          4  ...              CE          9                 1.0   \n88136          2  ...              BA          9                 1.0   \n88137          3  ...              MT          9                 1.0   \n88138          4  ...              ES          9                 1.0   \n88139          2  ...              PR          9                 1.0   \n\n       payment_installments payment_value_boleto  payment_value_voucher  \\\n0                       8.0                  0.0                    0.0   \n1                       1.0                  0.0                    0.0   \n2                       8.0                  0.0                    0.0   \n3                       4.0                  0.0                    0.0   \n4                       6.0                  0.0                    0.0   \n...                     ...                  ...                    ...   \n88135                   2.0                  0.0                    0.0   \n88136                   1.0                  0.0                    0.0   \n88137                   1.0                  0.0                    0.0   \n88138                   5.0                  0.0                    0.0   \n88139                   4.0                  0.0                    0.0   \n\n       payment_value_credit_card payment_value_debit_card month_group  \\\n0                     141.899994                      0.0          20   \n1                      27.190001                      0.0          20   \n2                      86.220001                      0.0           6   \n3                      43.619999                      0.0          13   \n4                     196.889999                      0.0          15   \n...                          ...                      ...         ...   \n88135                 167.320007                      0.0          16   \n88136                  84.580002                      0.0          15   \n88137                 112.459999                      0.0           5   \n88138                 133.690002                      0.0          20   \n88139                  71.559998                      0.0           8   \n\n       months_since_first  \n0                    20.0  \n1                    20.0  \n2                     6.0  \n3                    13.0  \n4                    15.0  \n...                   ...  \n88135                16.0  \n88136                15.0  \n88137                 5.0  \n88138                20.0  \n88139                 8.0  \n\n[88140 rows x 28 columns]",
      "text/html": "<div>\n<style scoped>\n    .dataframe tbody tr th:only-of-type {\n        vertical-align: middle;\n    }\n\n    .dataframe tbody tr th {\n        vertical-align: top;\n    }\n\n    .dataframe thead th {\n        text-align: right;\n    }\n</style>\n<table border=\"1\" class=\"dataframe\">\n  <thead>\n    <tr style=\"text-align: right;\">\n      <th></th>\n      <th>recency</th>\n      <th>frequency</th>\n      <th>monetary</th>\n      <th>nb_orders</th>\n      <th>first_order</th>\n      <th>last_order</th>\n      <th>days_between_orders</th>\n      <th>scoring_R</th>\n      <th>scoring_F</th>\n      <th>scoring_M</th>\n      <th>...</th>\n      <th>customer_state</th>\n      <th>scoring_PR</th>\n      <th>payment_sequential</th>\n      <th>payment_installments</th>\n      <th>payment_value_boleto</th>\n      <th>payment_value_voucher</th>\n      <th>payment_value_credit_card</th>\n      <th>payment_value_debit_card</th>\n      <th>month_group</th>\n      <th>months_since_first</th>\n    </tr>\n  </thead>\n  <tbody>\n    <tr>\n      <th>0</th>\n      <td>112.0</td>\n      <td>0.200000</td>\n      <td>141.90</td>\n      <td>1.0</td>\n      <td>2018-05-10 10:56:27</td>\n      <td>2018-05-10 10:56:27</td>\n      <td>0</td>\n      <td>4</td>\n      <td>4</td>\n      <td>4</td>\n      <td>...</td>\n      <td>SP</td>\n      <td>1</td>\n      <td>1.0</td>\n      <td>8.0</td>\n      <td>0.0</td>\n      <td>0.0</td>\n      <td>141.899994</td>\n      <td>0.0</td>\n      <td>20</td>\n      <td>20.0</td>\n    </tr>\n    <tr>\n      <th>1</th>\n      <td>115.0</td>\n      <td>0.200000</td>\n      <td>27.19</td>\n      <td>1.0</td>\n      <td>2018-05-07 11:11:27</td>\n      <td>2018-05-07 11:11:27</td>\n      <td>0</td>\n      <td>4</td>\n      <td>4</td>\n      <td>1</td>\n      <td>...</td>\n      <td>SP</td>\n      <td>1</td>\n      <td>1.0</td>\n      <td>1.0</td>\n      <td>0.0</td>\n      <td>0.0</td>\n      <td>27.190001</td>\n      <td>0.0</td>\n      <td>20</td>\n      <td>20.0</td>\n    </tr>\n    <tr>\n      <th>2</th>\n      <td>537.0</td>\n      <td>0.052632</td>\n      <td>86.22</td>\n      <td>1.0</td>\n      <td>2017-03-10 21:05:03</td>\n      <td>2017-03-10 21:05:03</td>\n      <td>0</td>\n      <td>1</td>\n      <td>1</td>\n      <td>2</td>\n      <td>...</td>\n      <td>SC</td>\n      <td>1</td>\n      <td>1.0</td>\n      <td>8.0</td>\n      <td>0.0</td>\n      <td>0.0</td>\n      <td>86.220001</td>\n      <td>0.0</td>\n      <td>6</td>\n      <td>6.0</td>\n    </tr>\n    <tr>\n      <th>3</th>\n      <td>321.0</td>\n      <td>0.083333</td>\n      <td>43.62</td>\n      <td>1.0</td>\n      <td>2017-10-12 20:29:41</td>\n      <td>2017-10-12 20:29:41</td>\n      <td>0</td>\n      <td>2</td>\n      <td>2</td>\n      <td>1</td>\n      <td>...</td>\n      <td>PA</td>\n      <td>1</td>\n      <td>1.0</td>\n      <td>4.0</td>\n      <td>0.0</td>\n      <td>0.0</td>\n      <td>43.619999</td>\n      <td>0.0</td>\n      <td>13</td>\n      <td>13.0</td>\n    </tr>\n    <tr>\n      <th>4</th>\n      <td>288.0</td>\n      <td>0.090909</td>\n      <td>196.89</td>\n      <td>1.0</td>\n      <td>2017-11-14 19:45:42</td>\n      <td>2017-11-14 19:45:42</td>\n      <td>0</td>\n      <td>2</td>\n      <td>2</td>\n      <td>4</td>\n      <td>...</td>\n      <td>SP</td>\n      <td>1</td>\n      <td>1.0</td>\n      <td>6.0</td>\n      <td>0.0</td>\n      <td>0.0</td>\n      <td>196.889999</td>\n      <td>0.0</td>\n      <td>15</td>\n      <td>15.0</td>\n    </tr>\n    <tr>\n      <th>...</th>\n      <td>...</td>\n      <td>...</td>\n      <td>...</td>\n      <td>...</td>\n      <td>...</td>\n      <td>...</td>\n      <td>...</td>\n      <td>...</td>\n      <td>...</td>\n      <td>...</td>\n      <td>...</td>\n      <td>...</td>\n      <td>...</td>\n      <td>...</td>\n      <td>...</td>\n      <td>...</td>\n      <td>...</td>\n      <td>...</td>\n      <td>...</td>\n      <td>...</td>\n      <td>...</td>\n    </tr>\n    <tr>\n      <th>88135</th>\n      <td>245.0</td>\n      <td>0.111111</td>\n      <td>167.32</td>\n      <td>1.0</td>\n      <td>2017-12-27 22:36:41</td>\n      <td>2017-12-27 22:36:41</td>\n      <td>0</td>\n      <td>3</td>\n      <td>3</td>\n      <td>4</td>\n      <td>...</td>\n      <td>CE</td>\n      <td>9</td>\n      <td>1.0</td>\n      <td>2.0</td>\n      <td>0.0</td>\n      <td>0.0</td>\n      <td>167.320007</td>\n      <td>0.0</td>\n      <td>16</td>\n      <td>16.0</td>\n    </tr>\n    <tr>\n      <th>88136</th>\n      <td>262.0</td>\n      <td>0.100000</td>\n      <td>84.58</td>\n      <td>1.0</td>\n      <td>2017-12-10 20:07:56</td>\n      <td>2017-12-10 20:07:56</td>\n      <td>0</td>\n      <td>3</td>\n      <td>2</td>\n      <td>2</td>\n      <td>...</td>\n      <td>BA</td>\n      <td>9</td>\n      <td>1.0</td>\n      <td>1.0</td>\n      <td>0.0</td>\n      <td>0.0</td>\n      <td>84.580002</td>\n      <td>0.0</td>\n      <td>15</td>\n      <td>15.0</td>\n    </tr>\n    <tr>\n      <th>88137</th>\n      <td>568.0</td>\n      <td>0.050000</td>\n      <td>112.46</td>\n      <td>1.0</td>\n      <td>2017-02-07 15:49:16</td>\n      <td>2017-02-07 15:49:16</td>\n      <td>0</td>\n      <td>1</td>\n      <td>1</td>\n      <td>3</td>\n      <td>...</td>\n      <td>MT</td>\n      <td>9</td>\n      <td>1.0</td>\n      <td>1.0</td>\n      <td>0.0</td>\n      <td>0.0</td>\n      <td>112.459999</td>\n      <td>0.0</td>\n      <td>5</td>\n      <td>5.0</td>\n    </tr>\n    <tr>\n      <th>88138</th>\n      <td>119.0</td>\n      <td>0.200000</td>\n      <td>133.69</td>\n      <td>1.0</td>\n      <td>2018-05-02 15:17:41</td>\n      <td>2018-05-02 15:17:41</td>\n      <td>0</td>\n      <td>4</td>\n      <td>4</td>\n      <td>4</td>\n      <td>...</td>\n      <td>ES</td>\n      <td>9</td>\n      <td>1.0</td>\n      <td>5.0</td>\n      <td>0.0</td>\n      <td>0.0</td>\n      <td>133.690002</td>\n      <td>0.0</td>\n      <td>20</td>\n      <td>20.0</td>\n    </tr>\n    <tr>\n      <th>88139</th>\n      <td>484.0</td>\n      <td>0.058824</td>\n      <td>71.56</td>\n      <td>1.0</td>\n      <td>2017-05-02 20:18:45</td>\n      <td>2017-05-02 20:18:45</td>\n      <td>0</td>\n      <td>1</td>\n      <td>1</td>\n      <td>2</td>\n      <td>...</td>\n      <td>PR</td>\n      <td>9</td>\n      <td>1.0</td>\n      <td>4.0</td>\n      <td>0.0</td>\n      <td>0.0</td>\n      <td>71.559998</td>\n      <td>0.0</td>\n      <td>8</td>\n      <td>8.0</td>\n    </tr>\n  </tbody>\n</table>\n<p>88140 rows × 28 columns</p>\n</div>"
     },
     "execution_count": 49,
     "metadata": {},
     "output_type": "execute_result"
    }
   ],
   "source": [
    "distributed_customers"
   ]
  },
  {
   "cell_type": "code",
   "execution_count": 50,
   "metadata": {
    "collapsed": false,
    "pycharm": {
     "name": "#%%\n"
    }
   },
   "outputs": [
    {
     "data": {
      "text/plain": "       recency  frequency  monetary  nb_orders         first_order  \\\n0        112.0   0.200000    141.90        1.0 2018-05-10 10:56:27   \n1        115.0   0.200000     27.19        1.0 2018-05-07 11:11:27   \n2        537.0   0.052632     86.22        1.0 2017-03-10 21:05:03   \n3        321.0   0.083333     43.62        1.0 2017-10-12 20:29:41   \n4        288.0   0.090909    196.89        1.0 2017-11-14 19:45:42   \n...        ...        ...       ...        ...                 ...   \n88135    245.0   0.111111    167.32        1.0 2017-12-27 22:36:41   \n88136    262.0   0.100000     84.58        1.0 2017-12-10 20:07:56   \n88137    568.0   0.050000    112.46        1.0 2017-02-07 15:49:16   \n88138    119.0   0.200000    133.69        1.0 2018-05-02 15:17:41   \n88139    484.0   0.058824     71.56        1.0 2017-05-02 20:18:45   \n\n               last_order  days_between_orders  scoring_R  scoring_F  \\\n0     2018-05-10 10:56:27                    0          4          4   \n1     2018-05-07 11:11:27                    0          4          4   \n2     2017-03-10 21:05:03                    0          1          1   \n3     2017-10-12 20:29:41                    0          2          2   \n4     2017-11-14 19:45:42                    0          2          2   \n...                   ...                  ...        ...        ...   \n88135 2017-12-27 22:36:41                    0          3          3   \n88136 2017-12-10 20:07:56                    0          3          2   \n88137 2017-02-07 15:49:16                    0          1          1   \n88138 2018-05-02 15:17:41                    0          4          4   \n88139 2017-05-02 20:18:45                    0          1          1   \n\n       scoring_M  ...  customer_state scoring_PR  payment_sequential  \\\n0              4  ...              SP          1                 1.0   \n1              1  ...              SP          1                 1.0   \n2              2  ...              SC          1                 1.0   \n3              1  ...              PA          1                 1.0   \n4              4  ...              SP          1                 1.0   \n...          ...  ...             ...        ...                 ...   \n88135          4  ...              CE          9                 1.0   \n88136          2  ...              BA          9                 1.0   \n88137          3  ...              MT          9                 1.0   \n88138          4  ...              ES          9                 1.0   \n88139          2  ...              PR          9                 1.0   \n\n       payment_installments payment_value_boleto  payment_value_voucher  \\\n0                       8.0                  0.0                    0.0   \n1                       1.0                  0.0                    0.0   \n2                       8.0                  0.0                    0.0   \n3                       4.0                  0.0                    0.0   \n4                       6.0                  0.0                    0.0   \n...                     ...                  ...                    ...   \n88135                   2.0                  0.0                    0.0   \n88136                   1.0                  0.0                    0.0   \n88137                   1.0                  0.0                    0.0   \n88138                   5.0                  0.0                    0.0   \n88139                   4.0                  0.0                    0.0   \n\n       payment_value_credit_card payment_value_debit_card month_group  \\\n0                     141.899994                      0.0          20   \n1                      27.190001                      0.0          20   \n2                      86.220001                      0.0           6   \n3                      43.619999                      0.0          13   \n4                     196.889999                      0.0          15   \n...                          ...                      ...         ...   \n88135                 167.320007                      0.0          16   \n88136                  84.580002                      0.0          15   \n88137                 112.459999                      0.0           5   \n88138                 133.690002                      0.0          20   \n88139                  71.559998                      0.0           8   \n\n       months_since_first  \n0                    20.0  \n1                    20.0  \n2                     6.0  \n3                    13.0  \n4                    15.0  \n...                   ...  \n88135                16.0  \n88136                15.0  \n88137                 5.0  \n88138                20.0  \n88139                 8.0  \n\n[81972 rows x 28 columns]",
      "text/html": "<div>\n<style scoped>\n    .dataframe tbody tr th:only-of-type {\n        vertical-align: middle;\n    }\n\n    .dataframe tbody tr th {\n        vertical-align: top;\n    }\n\n    .dataframe thead th {\n        text-align: right;\n    }\n</style>\n<table border=\"1\" class=\"dataframe\">\n  <thead>\n    <tr style=\"text-align: right;\">\n      <th></th>\n      <th>recency</th>\n      <th>frequency</th>\n      <th>monetary</th>\n      <th>nb_orders</th>\n      <th>first_order</th>\n      <th>last_order</th>\n      <th>days_between_orders</th>\n      <th>scoring_R</th>\n      <th>scoring_F</th>\n      <th>scoring_M</th>\n      <th>...</th>\n      <th>customer_state</th>\n      <th>scoring_PR</th>\n      <th>payment_sequential</th>\n      <th>payment_installments</th>\n      <th>payment_value_boleto</th>\n      <th>payment_value_voucher</th>\n      <th>payment_value_credit_card</th>\n      <th>payment_value_debit_card</th>\n      <th>month_group</th>\n      <th>months_since_first</th>\n    </tr>\n  </thead>\n  <tbody>\n    <tr>\n      <th>0</th>\n      <td>112.0</td>\n      <td>0.200000</td>\n      <td>141.90</td>\n      <td>1.0</td>\n      <td>2018-05-10 10:56:27</td>\n      <td>2018-05-10 10:56:27</td>\n      <td>0</td>\n      <td>4</td>\n      <td>4</td>\n      <td>4</td>\n      <td>...</td>\n      <td>SP</td>\n      <td>1</td>\n      <td>1.0</td>\n      <td>8.0</td>\n      <td>0.0</td>\n      <td>0.0</td>\n      <td>141.899994</td>\n      <td>0.0</td>\n      <td>20</td>\n      <td>20.0</td>\n    </tr>\n    <tr>\n      <th>1</th>\n      <td>115.0</td>\n      <td>0.200000</td>\n      <td>27.19</td>\n      <td>1.0</td>\n      <td>2018-05-07 11:11:27</td>\n      <td>2018-05-07 11:11:27</td>\n      <td>0</td>\n      <td>4</td>\n      <td>4</td>\n      <td>1</td>\n      <td>...</td>\n      <td>SP</td>\n      <td>1</td>\n      <td>1.0</td>\n      <td>1.0</td>\n      <td>0.0</td>\n      <td>0.0</td>\n      <td>27.190001</td>\n      <td>0.0</td>\n      <td>20</td>\n      <td>20.0</td>\n    </tr>\n    <tr>\n      <th>2</th>\n      <td>537.0</td>\n      <td>0.052632</td>\n      <td>86.22</td>\n      <td>1.0</td>\n      <td>2017-03-10 21:05:03</td>\n      <td>2017-03-10 21:05:03</td>\n      <td>0</td>\n      <td>1</td>\n      <td>1</td>\n      <td>2</td>\n      <td>...</td>\n      <td>SC</td>\n      <td>1</td>\n      <td>1.0</td>\n      <td>8.0</td>\n      <td>0.0</td>\n      <td>0.0</td>\n      <td>86.220001</td>\n      <td>0.0</td>\n      <td>6</td>\n      <td>6.0</td>\n    </tr>\n    <tr>\n      <th>3</th>\n      <td>321.0</td>\n      <td>0.083333</td>\n      <td>43.62</td>\n      <td>1.0</td>\n      <td>2017-10-12 20:29:41</td>\n      <td>2017-10-12 20:29:41</td>\n      <td>0</td>\n      <td>2</td>\n      <td>2</td>\n      <td>1</td>\n      <td>...</td>\n      <td>PA</td>\n      <td>1</td>\n      <td>1.0</td>\n      <td>4.0</td>\n      <td>0.0</td>\n      <td>0.0</td>\n      <td>43.619999</td>\n      <td>0.0</td>\n      <td>13</td>\n      <td>13.0</td>\n    </tr>\n    <tr>\n      <th>4</th>\n      <td>288.0</td>\n      <td>0.090909</td>\n      <td>196.89</td>\n      <td>1.0</td>\n      <td>2017-11-14 19:45:42</td>\n      <td>2017-11-14 19:45:42</td>\n      <td>0</td>\n      <td>2</td>\n      <td>2</td>\n      <td>4</td>\n      <td>...</td>\n      <td>SP</td>\n      <td>1</td>\n      <td>1.0</td>\n      <td>6.0</td>\n      <td>0.0</td>\n      <td>0.0</td>\n      <td>196.889999</td>\n      <td>0.0</td>\n      <td>15</td>\n      <td>15.0</td>\n    </tr>\n    <tr>\n      <th>...</th>\n      <td>...</td>\n      <td>...</td>\n      <td>...</td>\n      <td>...</td>\n      <td>...</td>\n      <td>...</td>\n      <td>...</td>\n      <td>...</td>\n      <td>...</td>\n      <td>...</td>\n      <td>...</td>\n      <td>...</td>\n      <td>...</td>\n      <td>...</td>\n      <td>...</td>\n      <td>...</td>\n      <td>...</td>\n      <td>...</td>\n      <td>...</td>\n      <td>...</td>\n      <td>...</td>\n    </tr>\n    <tr>\n      <th>88135</th>\n      <td>245.0</td>\n      <td>0.111111</td>\n      <td>167.32</td>\n      <td>1.0</td>\n      <td>2017-12-27 22:36:41</td>\n      <td>2017-12-27 22:36:41</td>\n      <td>0</td>\n      <td>3</td>\n      <td>3</td>\n      <td>4</td>\n      <td>...</td>\n      <td>CE</td>\n      <td>9</td>\n      <td>1.0</td>\n      <td>2.0</td>\n      <td>0.0</td>\n      <td>0.0</td>\n      <td>167.320007</td>\n      <td>0.0</td>\n      <td>16</td>\n      <td>16.0</td>\n    </tr>\n    <tr>\n      <th>88136</th>\n      <td>262.0</td>\n      <td>0.100000</td>\n      <td>84.58</td>\n      <td>1.0</td>\n      <td>2017-12-10 20:07:56</td>\n      <td>2017-12-10 20:07:56</td>\n      <td>0</td>\n      <td>3</td>\n      <td>2</td>\n      <td>2</td>\n      <td>...</td>\n      <td>BA</td>\n      <td>9</td>\n      <td>1.0</td>\n      <td>1.0</td>\n      <td>0.0</td>\n      <td>0.0</td>\n      <td>84.580002</td>\n      <td>0.0</td>\n      <td>15</td>\n      <td>15.0</td>\n    </tr>\n    <tr>\n      <th>88137</th>\n      <td>568.0</td>\n      <td>0.050000</td>\n      <td>112.46</td>\n      <td>1.0</td>\n      <td>2017-02-07 15:49:16</td>\n      <td>2017-02-07 15:49:16</td>\n      <td>0</td>\n      <td>1</td>\n      <td>1</td>\n      <td>3</td>\n      <td>...</td>\n      <td>MT</td>\n      <td>9</td>\n      <td>1.0</td>\n      <td>1.0</td>\n      <td>0.0</td>\n      <td>0.0</td>\n      <td>112.459999</td>\n      <td>0.0</td>\n      <td>5</td>\n      <td>5.0</td>\n    </tr>\n    <tr>\n      <th>88138</th>\n      <td>119.0</td>\n      <td>0.200000</td>\n      <td>133.69</td>\n      <td>1.0</td>\n      <td>2018-05-02 15:17:41</td>\n      <td>2018-05-02 15:17:41</td>\n      <td>0</td>\n      <td>4</td>\n      <td>4</td>\n      <td>4</td>\n      <td>...</td>\n      <td>ES</td>\n      <td>9</td>\n      <td>1.0</td>\n      <td>5.0</td>\n      <td>0.0</td>\n      <td>0.0</td>\n      <td>133.690002</td>\n      <td>0.0</td>\n      <td>20</td>\n      <td>20.0</td>\n    </tr>\n    <tr>\n      <th>88139</th>\n      <td>484.0</td>\n      <td>0.058824</td>\n      <td>71.56</td>\n      <td>1.0</td>\n      <td>2017-05-02 20:18:45</td>\n      <td>2017-05-02 20:18:45</td>\n      <td>0</td>\n      <td>1</td>\n      <td>1</td>\n      <td>2</td>\n      <td>...</td>\n      <td>PR</td>\n      <td>9</td>\n      <td>1.0</td>\n      <td>4.0</td>\n      <td>0.0</td>\n      <td>0.0</td>\n      <td>71.559998</td>\n      <td>0.0</td>\n      <td>8</td>\n      <td>8.0</td>\n    </tr>\n  </tbody>\n</table>\n<p>81972 rows × 28 columns</p>\n</div>"
     },
     "execution_count": 50,
     "metadata": {},
     "output_type": "execute_result"
    }
   ],
   "source": [
    "in_period = (distributed_customers.first_order >= \"2016-10-01\") & (\n",
    "    distributed_customers.first_order <= \"2018-07-31\"\n",
    ")\n",
    "\n",
    "distributed_customers = distributed_customers.loc[in_period, :]\n",
    "\n",
    "# If the Second Order is out of range, replace it with the First Order date\n",
    "out_of_period = (distributed_customers.last_order <= \"2016-10-01\") & (\n",
    "    distributed_customers.last_order >= \"2018-07-31\"\n",
    ")\n",
    "distributed_customers.loc[out_of_period, \"nb_orders\"] = 1\n",
    "distributed_customers.loc[out_of_period, \"days_between_orders\"] = 0\n",
    "distributed_customers.loc[out_of_period, \"last_order\"] = distributed_customers[\n",
    "    \"first_order\"\n",
    "]\n",
    "\n",
    "distributed_customers"
   ]
  },
  {
   "cell_type": "code",
   "execution_count": 51,
   "metadata": {
    "collapsed": false,
    "pycharm": {
     "name": "#%%\n"
    }
   },
   "outputs": [
    {
     "data": {
      "text/plain": "       recency  frequency  monetary  review_score  month_group\n0        112.0   0.200000    141.90           5.0           20\n1        115.0   0.200000     27.19           4.0           20\n2        537.0   0.052632     86.22           3.0            6\n3        321.0   0.083333     43.62           4.0           13\n4        288.0   0.090909    196.89           5.0           15\n...        ...        ...       ...           ...          ...\n88135    245.0   0.111111    167.32           5.0           16\n88136    262.0   0.100000     84.58           4.0           15\n88137    568.0   0.050000    112.46           5.0            5\n88138    119.0   0.200000    133.69           5.0           20\n88139    484.0   0.058824     71.56           5.0            8\n\n[81972 rows x 5 columns]",
      "text/html": "<div>\n<style scoped>\n    .dataframe tbody tr th:only-of-type {\n        vertical-align: middle;\n    }\n\n    .dataframe tbody tr th {\n        vertical-align: top;\n    }\n\n    .dataframe thead th {\n        text-align: right;\n    }\n</style>\n<table border=\"1\" class=\"dataframe\">\n  <thead>\n    <tr style=\"text-align: right;\">\n      <th></th>\n      <th>recency</th>\n      <th>frequency</th>\n      <th>monetary</th>\n      <th>review_score</th>\n      <th>month_group</th>\n    </tr>\n  </thead>\n  <tbody>\n    <tr>\n      <th>0</th>\n      <td>112.0</td>\n      <td>0.200000</td>\n      <td>141.90</td>\n      <td>5.0</td>\n      <td>20</td>\n    </tr>\n    <tr>\n      <th>1</th>\n      <td>115.0</td>\n      <td>0.200000</td>\n      <td>27.19</td>\n      <td>4.0</td>\n      <td>20</td>\n    </tr>\n    <tr>\n      <th>2</th>\n      <td>537.0</td>\n      <td>0.052632</td>\n      <td>86.22</td>\n      <td>3.0</td>\n      <td>6</td>\n    </tr>\n    <tr>\n      <th>3</th>\n      <td>321.0</td>\n      <td>0.083333</td>\n      <td>43.62</td>\n      <td>4.0</td>\n      <td>13</td>\n    </tr>\n    <tr>\n      <th>4</th>\n      <td>288.0</td>\n      <td>0.090909</td>\n      <td>196.89</td>\n      <td>5.0</td>\n      <td>15</td>\n    </tr>\n    <tr>\n      <th>...</th>\n      <td>...</td>\n      <td>...</td>\n      <td>...</td>\n      <td>...</td>\n      <td>...</td>\n    </tr>\n    <tr>\n      <th>88135</th>\n      <td>245.0</td>\n      <td>0.111111</td>\n      <td>167.32</td>\n      <td>5.0</td>\n      <td>16</td>\n    </tr>\n    <tr>\n      <th>88136</th>\n      <td>262.0</td>\n      <td>0.100000</td>\n      <td>84.58</td>\n      <td>4.0</td>\n      <td>15</td>\n    </tr>\n    <tr>\n      <th>88137</th>\n      <td>568.0</td>\n      <td>0.050000</td>\n      <td>112.46</td>\n      <td>5.0</td>\n      <td>5</td>\n    </tr>\n    <tr>\n      <th>88138</th>\n      <td>119.0</td>\n      <td>0.200000</td>\n      <td>133.69</td>\n      <td>5.0</td>\n      <td>20</td>\n    </tr>\n    <tr>\n      <th>88139</th>\n      <td>484.0</td>\n      <td>0.058824</td>\n      <td>71.56</td>\n      <td>5.0</td>\n      <td>8</td>\n    </tr>\n  </tbody>\n</table>\n<p>81972 rows × 5 columns</p>\n</div>"
     },
     "execution_count": 51,
     "metadata": {},
     "output_type": "execute_result"
    }
   ],
   "source": [
    "selected_variables = [\"recency\", \"frequency\", \"monetary\", \"review_score\"]\n",
    "\n",
    "selected_variables.append(\"month_group\")\n",
    "distributed_customers = distributed_customers[selected_variables]\n",
    "\n",
    "distributed_customers"
   ]
  },
  {
   "cell_type": "code",
   "execution_count": 52,
   "metadata": {
    "collapsed": false,
    "pycharm": {
     "name": "#%%\n"
    }
   },
   "outputs": [
    {
     "data": {
      "text/plain": "             recency  frequency  monetary  review_score\nmonth_group                                            \n1                229        229       229           229\n4                 97         97        97            97\n5               1554       1554      1554          1554\n6               1779       1779      1779          1779\n7               2140       2140      2140          2140\n8               2591       2591      2591          2591\n9               3166       3166      3166          3166\n10              2798       2798      2798          2798\n11              3624       3624      3624          3624\n12              3605       3605      3605          3605\n13              3976       3976      3976          3976\n14              3833       3833      3833          3833\n15              7716       7716      7716          7716\n16              4431       4431      4431          4431\n17              6530       6530      6530          6530\n18              6395       6395      6395          6395\n19              6350       6350      6350          6350\n20              6625       6625      6625          6625\n21              5409       5409      5409          5409\n22              5158       5158      5158          5158\n23              3966       3966      3966          3966",
      "text/html": "<div>\n<style scoped>\n    .dataframe tbody tr th:only-of-type {\n        vertical-align: middle;\n    }\n\n    .dataframe tbody tr th {\n        vertical-align: top;\n    }\n\n    .dataframe thead th {\n        text-align: right;\n    }\n</style>\n<table border=\"1\" class=\"dataframe\">\n  <thead>\n    <tr style=\"text-align: right;\">\n      <th></th>\n      <th>recency</th>\n      <th>frequency</th>\n      <th>monetary</th>\n      <th>review_score</th>\n    </tr>\n    <tr>\n      <th>month_group</th>\n      <th></th>\n      <th></th>\n      <th></th>\n      <th></th>\n    </tr>\n  </thead>\n  <tbody>\n    <tr>\n      <th>1</th>\n      <td>229</td>\n      <td>229</td>\n      <td>229</td>\n      <td>229</td>\n    </tr>\n    <tr>\n      <th>4</th>\n      <td>97</td>\n      <td>97</td>\n      <td>97</td>\n      <td>97</td>\n    </tr>\n    <tr>\n      <th>5</th>\n      <td>1554</td>\n      <td>1554</td>\n      <td>1554</td>\n      <td>1554</td>\n    </tr>\n    <tr>\n      <th>6</th>\n      <td>1779</td>\n      <td>1779</td>\n      <td>1779</td>\n      <td>1779</td>\n    </tr>\n    <tr>\n      <th>7</th>\n      <td>2140</td>\n      <td>2140</td>\n      <td>2140</td>\n      <td>2140</td>\n    </tr>\n    <tr>\n      <th>8</th>\n      <td>2591</td>\n      <td>2591</td>\n      <td>2591</td>\n      <td>2591</td>\n    </tr>\n    <tr>\n      <th>9</th>\n      <td>3166</td>\n      <td>3166</td>\n      <td>3166</td>\n      <td>3166</td>\n    </tr>\n    <tr>\n      <th>10</th>\n      <td>2798</td>\n      <td>2798</td>\n      <td>2798</td>\n      <td>2798</td>\n    </tr>\n    <tr>\n      <th>11</th>\n      <td>3624</td>\n      <td>3624</td>\n      <td>3624</td>\n      <td>3624</td>\n    </tr>\n    <tr>\n      <th>12</th>\n      <td>3605</td>\n      <td>3605</td>\n      <td>3605</td>\n      <td>3605</td>\n    </tr>\n    <tr>\n      <th>13</th>\n      <td>3976</td>\n      <td>3976</td>\n      <td>3976</td>\n      <td>3976</td>\n    </tr>\n    <tr>\n      <th>14</th>\n      <td>3833</td>\n      <td>3833</td>\n      <td>3833</td>\n      <td>3833</td>\n    </tr>\n    <tr>\n      <th>15</th>\n      <td>7716</td>\n      <td>7716</td>\n      <td>7716</td>\n      <td>7716</td>\n    </tr>\n    <tr>\n      <th>16</th>\n      <td>4431</td>\n      <td>4431</td>\n      <td>4431</td>\n      <td>4431</td>\n    </tr>\n    <tr>\n      <th>17</th>\n      <td>6530</td>\n      <td>6530</td>\n      <td>6530</td>\n      <td>6530</td>\n    </tr>\n    <tr>\n      <th>18</th>\n      <td>6395</td>\n      <td>6395</td>\n      <td>6395</td>\n      <td>6395</td>\n    </tr>\n    <tr>\n      <th>19</th>\n      <td>6350</td>\n      <td>6350</td>\n      <td>6350</td>\n      <td>6350</td>\n    </tr>\n    <tr>\n      <th>20</th>\n      <td>6625</td>\n      <td>6625</td>\n      <td>6625</td>\n      <td>6625</td>\n    </tr>\n    <tr>\n      <th>21</th>\n      <td>5409</td>\n      <td>5409</td>\n      <td>5409</td>\n      <td>5409</td>\n    </tr>\n    <tr>\n      <th>22</th>\n      <td>5158</td>\n      <td>5158</td>\n      <td>5158</td>\n      <td>5158</td>\n    </tr>\n    <tr>\n      <th>23</th>\n      <td>3966</td>\n      <td>3966</td>\n      <td>3966</td>\n      <td>3966</td>\n    </tr>\n  </tbody>\n</table>\n</div>"
     },
     "execution_count": 52,
     "metadata": {},
     "output_type": "execute_result"
    }
   ],
   "source": [
    "distributed_customers.groupby(\"month_group\").count()"
   ]
  },
  {
   "cell_type": "markdown",
   "metadata": {
    "collapsed": false
   },
   "source": [
    "We need at least 20 000 customers to get a performant model so we will use the 13 first groups as basis for the model m<sup>1</sup>.\n",
    "\n",
    "* To build m<sup>2</sup>, we will use the 14 first groups\n",
    "* To build m<sup>3</sup>, we will use the 15 first groups\n",
    "* etc ...\n",
    "\n",
    "| Model          | Groups used  | Group Month of comparison for ARI |\n",
    "|----------------|--------------|-----------------------------------|\n",
    "| m<sup>1</sup>  | from 1 to 13 | _Not applicable_                  |\n",
    "| m<sup>2</sup>  | from 1 to 14 | 14                                |\n",
    "| m<sup>3</sup>  | from 1 to 15 | 15                                |\n",
    "| m<sup>4</sup>  | from 1 to 16 | 16                                |\n",
    "| m<sup>5</sup>  | from 1 to 17 | 17                                |\n",
    "| m<sup>6</sup>  | from 1 to 18 | 18                                |\n",
    "| m<sup>7</sup>  | from 1 to 19 | 19                                |\n",
    "| m<sup>8</sup>  | from 1 to 20 | 20                                |\n",
    "| m<sup>9</sup>  | from 1 to 21 | 21                                |\n",
    "| m<sup>10</sup> | from 1 to 22 | 22                                |\n",
    "| m<sup>11</sup> | from 1 to 23 | 23                                |\n",
    "| m<sup>12</sup> | from 1 to 24 | 24                                |\n"
   ]
  },
  {
   "cell_type": "markdown",
   "metadata": {
    "collapsed": false
   },
   "source": [
    "## Preparation of the Dataset for training"
   ]
  },
  {
   "cell_type": "code",
   "execution_count": 53,
   "metadata": {
    "collapsed": false,
    "pycharm": {
     "name": "#%%\n"
    }
   },
   "outputs": [],
   "source": [
    "def prepare_data_for_model(customers: pd.DataFrame):\n",
    "    scaler = StandardScaler()\n",
    "\n",
    "    return scaler.fit_transform(customers)\n",
    "\n",
    "\n",
    "def get_trained_model(month_group, verbose=False):\n",
    "    customers = distributed_customers.query(\"month_group <= @month_group\")\n",
    "\n",
    "    if verbose:\n",
    "        print(\n",
    "            \"Trained on {0} Customers until Group Month {1}\".format(\n",
    "                str(customers.shape[0]), str(month_group)\n",
    "            )\n",
    "        )\n",
    "\n",
    "    scaled_customers = prepare_data_for_model(customers)\n",
    "\n",
    "    return AgglomerativeClustering(\n",
    "        n_clusters=5, linkage=\"ward\", affinity=\"euclidean\", compute_full_tree=False\n",
    "    ).fit(scaled_customers)\n",
    "\n",
    "\n",
    "def predict_group_labels(trained_model, month_group, model_name, verbose=False):\n",
    "    customers = distributed_customers.query(\"month_group <= @month_group\")\n",
    "\n",
    "    if verbose:\n",
    "        print(\n",
    "            \"Predict {0} Customers Labels for original group By {1}\".format(\n",
    "                str(customers.shape[0]), model_name\n",
    "            )\n",
    "        )\n",
    "\n",
    "    model_labels = trained_model.labels_\n",
    "\n",
    "    return model_labels[: customers.shape[0]]"
   ]
  },
  {
   "cell_type": "code",
   "execution_count": 54,
   "metadata": {
    "collapsed": false,
    "pycharm": {
     "name": "#%%\n"
    }
   },
   "outputs": [],
   "source": [
    "def get_ari_graph(months_of_training, verbose=False):\n",
    "\n",
    "    print(\n",
    "        \"Number of Customers used to train the Basis model: {0}\".format(\n",
    "            str(\n",
    "                distributed_customers.query(\"month_group <= @months_of_training\").shape[\n",
    "                    0\n",
    "                ]\n",
    "            )\n",
    "        )\n",
    "    )\n",
    "    m1 = get_trained_model(months_of_training)\n",
    "    true_labels = m1.labels_\n",
    "\n",
    "    ari_scores = []\n",
    "\n",
    "    for model in range(2, (25 - (months_of_training - 2))):\n",
    "        group_month = model + (months_of_training - 1)\n",
    "        # Train the model with the new data\n",
    "        new_model = get_trained_model(group_month, verbose)\n",
    "\n",
    "        # Get the predicted labels predicted by the new model\n",
    "        predicted_labels = predict_group_labels(\n",
    "            new_model, months_of_training, f\"Model {group_month}\", verbose\n",
    "        )\n",
    "\n",
    "        ari_scores.append(\n",
    "            {\n",
    "                \"month\": model - 1,\n",
    "                \"ari_score\": adjusted_rand_score(true_labels, predicted_labels),\n",
    "            }\n",
    "        )\n",
    "\n",
    "    pd.DataFrame(ari_scores).plot(\n",
    "        title=\"Evolution of ARI Score per Month\", x=\"month\", y=\"ari_score\"\n",
    "    );"
   ]
  },
  {
   "cell_type": "code",
   "execution_count": 55,
   "metadata": {
    "collapsed": false,
    "pycharm": {
     "name": "#%%\n"
    }
   },
   "outputs": [
    {
     "name": "stdout",
     "output_type": "stream",
     "text": [
      "Trained on 29392 Customers until Group Month 14\n",
      "Predict 25559 Customers Labels for original group By Model 14\n",
      "Trained on 37108 Customers until Group Month 15\n",
      "Predict 25559 Customers Labels for original group By Model 15\n",
      "Trained on 41539 Customers until Group Month 16\n",
      "Predict 25559 Customers Labels for original group By Model 16\n",
      "Trained on 48069 Customers until Group Month 17\n",
      "Predict 25559 Customers Labels for original group By Model 17\n",
      "Trained on 54464 Customers until Group Month 18\n",
      "Predict 25559 Customers Labels for original group By Model 18\n",
      "Trained on 60814 Customers until Group Month 19\n",
      "Predict 25559 Customers Labels for original group By Model 19\n",
      "Trained on 67439 Customers until Group Month 20\n",
      "Predict 25559 Customers Labels for original group By Model 20\n",
      "Trained on 72848 Customers until Group Month 21\n",
      "Predict 25559 Customers Labels for original group By Model 21\n",
      "Trained on 78006 Customers until Group Month 22\n",
      "Predict 25559 Customers Labels for original group By Model 22\n",
      "Trained on 81972 Customers until Group Month 23\n",
      "Predict 25559 Customers Labels for original group By Model 23\n",
      "Trained on 81972 Customers until Group Month 24\n",
      "Predict 25559 Customers Labels for original group By Model 24\n",
      "Trained on 81972 Customers until Group Month 25\n",
      "Predict 25559 Customers Labels for original group By Model 25\n"
     ]
    },
    {
     "data": {
      "text/plain": "<Figure size 432x288 with 1 Axes>",
      "image/png": "[encoded data removed]"
     },
     "metadata": {
      "needs_background": "light"
     },
     "output_type": "display_data"
    },
    {
     "name": "stdout",
     "output_type": "stream",
     "text": [
      "Number of Customers used to train the Basis model: 25559\n",
      "Trained on 29392 Customers until Group Month 14\n",
      "Predict 25559 Customers Labels for original group By Model 14\n",
      "Trained on 37108 Customers until Group Month 15\n",
      "Predict 25559 Customers Labels for original group By Model 15\n",
      "Trained on 41539 Customers until Group Month 16\n",
      "Predict 25559 Customers Labels for original group By Model 16\n",
      "Trained on 48069 Customers until Group Month 17\n",
      "Predict 25559 Customers Labels for original group By Model 17\n",
      "Trained on 54464 Customers until Group Month 18\n",
      "Predict 25559 Customers Labels for original group By Model 18\n",
      "Trained on 60814 Customers until Group Month 19\n",
      "Predict 25559 Customers Labels for original group By Model 19\n",
      "Trained on 67439 Customers until Group Month 20\n",
      "Predict 25559 Customers Labels for original group By Model 20\n",
      "Trained on 72848 Customers until Group Month 21\n",
      "Predict 25559 Customers Labels for original group By Model 21\n",
      "Trained on 78006 Customers until Group Month 22\n",
      "Predict 25559 Customers Labels for original group By Model 22\n",
      "Trained on 81972 Customers until Group Month 23\n",
      "Predict 25559 Customers Labels for original group By Model 23\n",
      "Trained on 81972 Customers until Group Month 24\n",
      "Predict 25559 Customers Labels for original group By Model 24\n",
      "Trained on 81972 Customers until Group Month 25\n",
      "Predict 25559 Customers Labels for original group By Model 25\n"
     ]
    },
    {
     "data": {
      "text/plain": "<Figure size 432x288 with 1 Axes>",
      "image/png": "[encoded data removed]"
     },
     "metadata": {
      "needs_background": "light"
     },
     "output_type": "display_data"
    }
   ],
   "source": [
    "# Create the DataFrame of ARI Scores (~25k of Customers)\n",
    "\n",
    "get_ari_graph(13, verbose=True)"
   ]
  },
  {
   "cell_type": "markdown",
   "metadata": {
    "collapsed": false,
    "pycharm": {
     "name": "#%% md\n"
    }
   },
   "source": [
    "The evolution of ARI Score show that the performance decrease a lot after 6 months, but we had only 20k customers : what if we collect more customers ?"
   ]
  }
 ],
 "metadata": {
  "kernelspec": {
   "display_name": "Python 3",
   "language": "python",
   "name": "python3"
  },
  "language_info": {
   "codemirror_mode": {
    "name": "ipython",
    "version": 3
   },
   "file_extension": ".py",
   "mimetype": "text/x-python",
   "name": "python",
   "nbconvert_exporter": "python",
   "pygments_lexer": "ipython3",
   "version": "3.9.1"
  }
 },
 "nbformat": 4,
 "nbformat_minor": 0
}