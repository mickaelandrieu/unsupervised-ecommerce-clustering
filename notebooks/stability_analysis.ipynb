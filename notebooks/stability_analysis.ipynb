{
 "cells": [
  {
   "cell_type": "markdown",
   "metadata": {
    "collapsed": true,
    "pycharm": {
     "name": "#%% md\n"
    }
   },
   "source": [
    "# Stability analysis of model\n",
    "\n",
    "Now the objective is to select the best model and to ensure its validity over time.\n",
    "\n",
    "How can we evaluate our model choice ? This is the protocol I will follow for each of the selected amounts of time in months\n",
    "\n",
    "1. Train the best model on the first period of time __m<sup>1</sup>__\n",
    "2. Train the best model on the _n<sup>th</sup>_ periods of time __m<sup>th</sup>__\n",
    "3. At each iteration, compare the clustering fit from __m<sup>1</sup>__ to __m<sup>th</sup>__ using ARI score\n",
    "4. Plot and decide for which period of time the model is stable\n",
    "\n",
    "Theses are the results of the experiments :\n",
    "\n",
    "| Clustering   | Silhouette Score | Clusters | Model |\n",
    "|--------------|------------------|----------|-------|\n",
    "| KMeans       | 0.35             | 4        | RFM   |\n",
    "| CAH          | 0.43             | 5        | RFM   |\n",
    "| DBSCAN       | 0.64             | 2        | RFM   |\n",
    "| KMeans       | 0.30             | 6        | RFMS  |\n",
    "| K-Prototypes | 0.30             | 4        | RFMS  |\n",
    "| DBSCAN       | 0.61             | 2        | RFMS  |\n",
    "| CAH          | 0.34             | 2        | RFMS  |\n",
    "| KMeans       | 0.35             | 7        | RMS   |\n",
    "| DBSCAN       | 0.76             | 2        | RMS   |\n",
    "| CAH          | 0.42             | 2        | RMS   |\n",
    "\n",
    "\n",
    "From the experiments done until then, the best model is DBSCAN but we can't really work with 2 clusters, this is why we will chose CAH.\n",
    "\n",
    "To filter by period, we will"
   ]
  },
  {
   "cell_type": "code",
   "execution_count": 202,
   "outputs": [],
   "source": [
    "import plotly.graph_objects as go\n",
    "\n",
    "\n",
    "def plot_clusters_radars(df: pd.DataFrame):\n",
    "    \"\"\"\n",
    "    Display a radar for every cluster\n",
    "\n",
    "    :param df: the dataframe with the clusters\n",
    "    :return: void\n",
    "    \"\"\"\n",
    "    fig = go.Figure()\n",
    "\n",
    "    for cluster in df[\"cluster\"]:\n",
    "        fig.add_trace(\n",
    "            go.Scatterpolar(\n",
    "                r=df[df[\"cluster\"] == cluster].iloc[:, 1:].values.reshape(-1),\n",
    "                theta=df.columns[1:],\n",
    "                fill=\"toself\",\n",
    "                name=\"Cluster \" + str(cluster),\n",
    "            )\n",
    "        )\n",
    "\n",
    "    fig.update_layout(\n",
    "        polar=dict(radialaxis=dict(visible=True, range=[0, 1])),\n",
    "        showlegend=True,\n",
    "        title={\n",
    "            \"text\": \"Mean Comparison of Variables per Cluster\",\n",
    "            \"y\": 0.95,\n",
    "            \"x\": 0.5,\n",
    "            \"xanchor\": \"center\",\n",
    "            \"yanchor\": \"top\",\n",
    "        },\n",
    "        title_font_color=\"blue\",\n",
    "        title_font_size=18,\n",
    "    )\n",
    "\n",
    "    fig.show()"
   ],
   "metadata": {
    "collapsed": false,
    "pycharm": {
     "name": "#%%\n"
    }
   }
  },
  {
   "cell_type": "markdown",
   "source": [
    "## 1 - Evaluating the stability of the model on monthly basis"
   ],
   "metadata": {
    "collapsed": false,
    "pycharm": {
     "name": "#%% md\n"
    }
   }
  },
  {
   "cell_type": "code",
   "execution_count": 203,
   "outputs": [
    {
     "data": {
      "text/plain": "       recency  frequency  monetary  nb_orders         first_order  \\\n0        112.0   0.200000    141.90        1.0 2018-05-10 10:56:27   \n1        115.0   0.200000     27.19        1.0 2018-05-07 11:11:27   \n2        537.0   0.052632     86.22        1.0 2017-03-10 21:05:03   \n3        321.0   0.083333     43.62        1.0 2017-10-12 20:29:41   \n4        288.0   0.090909    196.89        1.0 2017-11-14 19:45:42   \n...        ...        ...       ...        ...                 ...   \n93103    447.0   0.062500   2067.42        1.0 2017-06-08 21:00:36   \n93104    262.0   0.100000     84.58        1.0 2017-12-10 20:07:56   \n93105    568.0   0.050000    112.46        1.0 2017-02-07 15:49:16   \n93106    119.0   0.200000    133.69        1.0 2018-05-02 15:17:41   \n93107    484.0   0.058824     71.56        1.0 2017-05-02 20:18:45   \n\n               last_order  days_between_orders  scoring_R  scoring_F  \\\n0     2018-05-10 10:56:27                    0          2          4   \n1     2018-05-07 11:11:27                    0          2          4   \n2     2017-03-10 21:05:03                    0          5          1   \n3     2017-10-12 20:29:41                    0          4          2   \n4     2017-11-14 19:45:42                    0          4          2   \n...                   ...                  ...        ...        ...   \n93103 2017-06-08 21:00:36                    0          5          1   \n93104 2017-12-10 20:07:56                    0          3          2   \n93105 2017-02-07 15:49:16                    0          5          1   \n93106 2018-05-02 15:17:41                    0          2          4   \n93107 2017-05-02 20:18:45                    0          5          1   \n\n       scoring_M  scoring_RFM   segment_RFM  review_score  \\\n0              4           10  Bons clients           5.0   \n1              1            7  Bons clients           4.0   \n2              2            8  Bons clients           3.0   \n3              1            7  Bons clients           4.0   \n4              4           10  Bons clients           5.0   \n...          ...          ...           ...           ...   \n93103          5           11  Bons clients           5.0   \n93104          2            7  Bons clients           4.0   \n93105          3            9  Bons clients           5.0   \n93106          4           10  Bons clients           5.0   \n93107          2            8  Bons clients           5.0   \n\n       review_completion_percentage   review_behavior  \n0                        100.000000  Best Contributor  \n1                         33.333333  Best Contributor  \n2                         33.333333  Best Contributor  \n3                         66.666667  Best Contributor  \n4                         33.333333  Best Contributor  \n...                             ...               ...  \n93103                     33.333333  Best Contributor  \n93104                     33.333333  Best Contributor  \n93105                     33.333333  Best Contributor  \n93106                    100.000000  Best Contributor  \n93107                     33.333333  Best Contributor  \n\n[93108 rows x 15 columns]",
      "text/html": "<div>\n<style scoped>\n    .dataframe tbody tr th:only-of-type {\n        vertical-align: middle;\n    }\n\n    .dataframe tbody tr th {\n        vertical-align: top;\n    }\n\n    .dataframe thead th {\n        text-align: right;\n    }\n</style>\n<table border=\"1\" class=\"dataframe\">\n  <thead>\n    <tr style=\"text-align: right;\">\n      <th></th>\n      <th>recency</th>\n      <th>frequency</th>\n      <th>monetary</th>\n      <th>nb_orders</th>\n      <th>first_order</th>\n      <th>last_order</th>\n      <th>days_between_orders</th>\n      <th>scoring_R</th>\n      <th>scoring_F</th>\n      <th>scoring_M</th>\n      <th>scoring_RFM</th>\n      <th>segment_RFM</th>\n      <th>review_score</th>\n      <th>review_completion_percentage</th>\n      <th>review_behavior</th>\n    </tr>\n  </thead>\n  <tbody>\n    <tr>\n      <th>0</th>\n      <td>112.0</td>\n      <td>0.200000</td>\n      <td>141.90</td>\n      <td>1.0</td>\n      <td>2018-05-10 10:56:27</td>\n      <td>2018-05-10 10:56:27</td>\n      <td>0</td>\n      <td>2</td>\n      <td>4</td>\n      <td>4</td>\n      <td>10</td>\n      <td>Bons clients</td>\n      <td>5.0</td>\n      <td>100.000000</td>\n      <td>Best Contributor</td>\n    </tr>\n    <tr>\n      <th>1</th>\n      <td>115.0</td>\n      <td>0.200000</td>\n      <td>27.19</td>\n      <td>1.0</td>\n      <td>2018-05-07 11:11:27</td>\n      <td>2018-05-07 11:11:27</td>\n      <td>0</td>\n      <td>2</td>\n      <td>4</td>\n      <td>1</td>\n      <td>7</td>\n      <td>Bons clients</td>\n      <td>4.0</td>\n      <td>33.333333</td>\n      <td>Best Contributor</td>\n    </tr>\n    <tr>\n      <th>2</th>\n      <td>537.0</td>\n      <td>0.052632</td>\n      <td>86.22</td>\n      <td>1.0</td>\n      <td>2017-03-10 21:05:03</td>\n      <td>2017-03-10 21:05:03</td>\n      <td>0</td>\n      <td>5</td>\n      <td>1</td>\n      <td>2</td>\n      <td>8</td>\n      <td>Bons clients</td>\n      <td>3.0</td>\n      <td>33.333333</td>\n      <td>Best Contributor</td>\n    </tr>\n    <tr>\n      <th>3</th>\n      <td>321.0</td>\n      <td>0.083333</td>\n      <td>43.62</td>\n      <td>1.0</td>\n      <td>2017-10-12 20:29:41</td>\n      <td>2017-10-12 20:29:41</td>\n      <td>0</td>\n      <td>4</td>\n      <td>2</td>\n      <td>1</td>\n      <td>7</td>\n      <td>Bons clients</td>\n      <td>4.0</td>\n      <td>66.666667</td>\n      <td>Best Contributor</td>\n    </tr>\n    <tr>\n      <th>4</th>\n      <td>288.0</td>\n      <td>0.090909</td>\n      <td>196.89</td>\n      <td>1.0</td>\n      <td>2017-11-14 19:45:42</td>\n      <td>2017-11-14 19:45:42</td>\n      <td>0</td>\n      <td>4</td>\n      <td>2</td>\n      <td>4</td>\n      <td>10</td>\n      <td>Bons clients</td>\n      <td>5.0</td>\n      <td>33.333333</td>\n      <td>Best Contributor</td>\n    </tr>\n    <tr>\n      <th>...</th>\n      <td>...</td>\n      <td>...</td>\n      <td>...</td>\n      <td>...</td>\n      <td>...</td>\n      <td>...</td>\n      <td>...</td>\n      <td>...</td>\n      <td>...</td>\n      <td>...</td>\n      <td>...</td>\n      <td>...</td>\n      <td>...</td>\n      <td>...</td>\n      <td>...</td>\n    </tr>\n    <tr>\n      <th>93103</th>\n      <td>447.0</td>\n      <td>0.062500</td>\n      <td>2067.42</td>\n      <td>1.0</td>\n      <td>2017-06-08 21:00:36</td>\n      <td>2017-06-08 21:00:36</td>\n      <td>0</td>\n      <td>5</td>\n      <td>1</td>\n      <td>5</td>\n      <td>11</td>\n      <td>Bons clients</td>\n      <td>5.0</td>\n      <td>33.333333</td>\n      <td>Best Contributor</td>\n    </tr>\n    <tr>\n      <th>93104</th>\n      <td>262.0</td>\n      <td>0.100000</td>\n      <td>84.58</td>\n      <td>1.0</td>\n      <td>2017-12-10 20:07:56</td>\n      <td>2017-12-10 20:07:56</td>\n      <td>0</td>\n      <td>3</td>\n      <td>2</td>\n      <td>2</td>\n      <td>7</td>\n      <td>Bons clients</td>\n      <td>4.0</td>\n      <td>33.333333</td>\n      <td>Best Contributor</td>\n    </tr>\n    <tr>\n      <th>93105</th>\n      <td>568.0</td>\n      <td>0.050000</td>\n      <td>112.46</td>\n      <td>1.0</td>\n      <td>2017-02-07 15:49:16</td>\n      <td>2017-02-07 15:49:16</td>\n      <td>0</td>\n      <td>5</td>\n      <td>1</td>\n      <td>3</td>\n      <td>9</td>\n      <td>Bons clients</td>\n      <td>5.0</td>\n      <td>33.333333</td>\n      <td>Best Contributor</td>\n    </tr>\n    <tr>\n      <th>93106</th>\n      <td>119.0</td>\n      <td>0.200000</td>\n      <td>133.69</td>\n      <td>1.0</td>\n      <td>2018-05-02 15:17:41</td>\n      <td>2018-05-02 15:17:41</td>\n      <td>0</td>\n      <td>2</td>\n      <td>4</td>\n      <td>4</td>\n      <td>10</td>\n      <td>Bons clients</td>\n      <td>5.0</td>\n      <td>100.000000</td>\n      <td>Best Contributor</td>\n    </tr>\n    <tr>\n      <th>93107</th>\n      <td>484.0</td>\n      <td>0.058824</td>\n      <td>71.56</td>\n      <td>1.0</td>\n      <td>2017-05-02 20:18:45</td>\n      <td>2017-05-02 20:18:45</td>\n      <td>0</td>\n      <td>5</td>\n      <td>1</td>\n      <td>2</td>\n      <td>8</td>\n      <td>Bons clients</td>\n      <td>5.0</td>\n      <td>33.333333</td>\n      <td>Best Contributor</td>\n    </tr>\n  </tbody>\n</table>\n<p>93108 rows × 15 columns</p>\n</div>"
     },
     "execution_count": 203,
     "metadata": {},
     "output_type": "execute_result"
    }
   ],
   "source": [
    "import pandas as pd\n",
    "import numpy as np\n",
    "from sklearn.pipeline import make_pipeline\n",
    "from sklearn.preprocessing import StandardScaler, PowerTransformer\n",
    "from sklearn.metrics import adjusted_rand_score\n",
    "from sklearn.cluster import KMeans\n",
    "\n",
    "customers = pd.read_csv(\n",
    "    \"./../output/rms.csv\", parse_dates=[\"first_order\", \"last_order\"]\n",
    ")\n",
    "\n",
    "customers"
   ],
   "metadata": {
    "collapsed": false,
    "pycharm": {
     "name": "#%%\n"
    }
   }
  },
  {
   "cell_type": "markdown",
   "source": [
    "First we need to segment the database into month pieces !\n",
    "\n",
    "The dataset got its first order in September of 2016 and its last order in August of 2018, it's 25 months of data but data of these first month and last month are incomplete\n",
    "so we will consider the period of time from October of 2016 to July of 2017."
   ],
   "metadata": {
    "collapsed": false,
    "pycharm": {
     "name": "#%% md\n"
    }
   }
  },
  {
   "cell_type": "code",
   "execution_count": 204,
   "outputs": [
    {
     "name": "stdout",
     "output_type": "stream",
     "text": [
      "2016-09-15 12:16:38 2018-08-29 15:00:37\n",
      "[1, 2, 4, 5, 6, 7, 8, 9, 10, 11, 12, 13, 14, 15, 16, 17, 18, 19, 20, 21, 22, 23, 24, 25]\n"
     ]
    }
   ],
   "source": [
    "min_order = customers[\"first_order\"].min()\n",
    "\n",
    "customers[\"month_group\"] = 0\n",
    "customers.loc[:, \"months_since_first\"] = (\n",
    "    round((customers[\"first_order\"] - min_order).dt.days / 30) + 1\n",
    ")\n",
    "customers[\"month_group\"] = customers[\"months_since_first\"].astype(\"int\")\n",
    "\n",
    "distributed_customers = customers.copy()\n",
    "\n",
    "print(\n",
    "    distributed_customers[\"first_order\"].min(),\n",
    "    distributed_customers[\"first_order\"].max(),\n",
    ")\n",
    "print(sorted(distributed_customers[\"month_group\"].unique()))"
   ],
   "metadata": {
    "collapsed": false,
    "pycharm": {
     "name": "#%%\n"
    }
   }
  },
  {
   "cell_type": "code",
   "execution_count": 205,
   "outputs": [
    {
     "data": {
      "text/plain": "Empty DataFrame\nColumns: [recency, frequency, monetary, nb_orders, first_order, last_order, days_between_orders, scoring_R, scoring_F, scoring_M, scoring_RFM, segment_RFM, review_score, review_completion_percentage, review_behavior, month_group, months_since_first]\nIndex: []",
      "text/html": "<div>\n<style scoped>\n    .dataframe tbody tr th:only-of-type {\n        vertical-align: middle;\n    }\n\n    .dataframe tbody tr th {\n        vertical-align: top;\n    }\n\n    .dataframe thead th {\n        text-align: right;\n    }\n</style>\n<table border=\"1\" class=\"dataframe\">\n  <thead>\n    <tr style=\"text-align: right;\">\n      <th></th>\n      <th>recency</th>\n      <th>frequency</th>\n      <th>monetary</th>\n      <th>nb_orders</th>\n      <th>first_order</th>\n      <th>last_order</th>\n      <th>days_between_orders</th>\n      <th>scoring_R</th>\n      <th>scoring_F</th>\n      <th>scoring_M</th>\n      <th>scoring_RFM</th>\n      <th>segment_RFM</th>\n      <th>review_score</th>\n      <th>review_completion_percentage</th>\n      <th>review_behavior</th>\n      <th>month_group</th>\n      <th>months_since_first</th>\n    </tr>\n  </thead>\n  <tbody>\n  </tbody>\n</table>\n</div>"
     },
     "execution_count": 205,
     "metadata": {},
     "output_type": "execute_result"
    }
   ],
   "source": [
    "# No orders on November 2016 ? WTF\n",
    "distributed_customers[\n",
    "    (distributed_customers.first_order.dt.year == 2016)\n",
    "    & (distributed_customers.first_order.dt.month == 11)\n",
    "]"
   ],
   "metadata": {
    "collapsed": false,
    "pycharm": {
     "name": "#%%\n"
    }
   }
  },
  {
   "cell_type": "code",
   "execution_count": 206,
   "outputs": [
    {
     "data": {
      "text/plain": "       recency  frequency  monetary  nb_orders         first_order  \\\n0        112.0   0.200000    141.90        1.0 2018-05-10 10:56:27   \n1        115.0   0.200000     27.19        1.0 2018-05-07 11:11:27   \n2        537.0   0.052632     86.22        1.0 2017-03-10 21:05:03   \n3        321.0   0.083333     43.62        1.0 2017-10-12 20:29:41   \n4        288.0   0.090909    196.89        1.0 2017-11-14 19:45:42   \n...        ...        ...       ...        ...                 ...   \n93103    447.0   0.062500   2067.42        1.0 2017-06-08 21:00:36   \n93104    262.0   0.100000     84.58        1.0 2017-12-10 20:07:56   \n93105    568.0   0.050000    112.46        1.0 2017-02-07 15:49:16   \n93106    119.0   0.200000    133.69        1.0 2018-05-02 15:17:41   \n93107    484.0   0.058824     71.56        1.0 2017-05-02 20:18:45   \n\n               last_order  days_between_orders  scoring_R  scoring_F  \\\n0     2018-05-10 10:56:27                    0          2          4   \n1     2018-05-07 11:11:27                    0          2          4   \n2     2017-03-10 21:05:03                    0          5          1   \n3     2017-10-12 20:29:41                    0          4          2   \n4     2017-11-14 19:45:42                    0          4          2   \n...                   ...                  ...        ...        ...   \n93103 2017-06-08 21:00:36                    0          5          1   \n93104 2017-12-10 20:07:56                    0          3          2   \n93105 2017-02-07 15:49:16                    0          5          1   \n93106 2018-05-02 15:17:41                    0          2          4   \n93107 2017-05-02 20:18:45                    0          5          1   \n\n       scoring_M  scoring_RFM   segment_RFM  review_score  \\\n0              4           10  Bons clients           5.0   \n1              1            7  Bons clients           4.0   \n2              2            8  Bons clients           3.0   \n3              1            7  Bons clients           4.0   \n4              4           10  Bons clients           5.0   \n...          ...          ...           ...           ...   \n93103          5           11  Bons clients           5.0   \n93104          2            7  Bons clients           4.0   \n93105          3            9  Bons clients           5.0   \n93106          4           10  Bons clients           5.0   \n93107          2            8  Bons clients           5.0   \n\n       review_completion_percentage   review_behavior  month_group  \\\n0                        100.000000  Best Contributor           21   \n1                         33.333333  Best Contributor           21   \n2                         33.333333  Best Contributor            7   \n3                         66.666667  Best Contributor           14   \n4                         33.333333  Best Contributor           15   \n...                             ...               ...          ...   \n93103                     33.333333  Best Contributor           10   \n93104                     33.333333  Best Contributor           16   \n93105                     33.333333  Best Contributor            6   \n93106                    100.000000  Best Contributor           21   \n93107                     33.333333  Best Contributor            9   \n\n       months_since_first  \n0                    21.0  \n1                    21.0  \n2                     7.0  \n3                    14.0  \n4                    15.0  \n...                   ...  \n93103                10.0  \n93104                16.0  \n93105                 6.0  \n93106                21.0  \n93107                 9.0  \n\n[93108 rows x 17 columns]",
      "text/html": "<div>\n<style scoped>\n    .dataframe tbody tr th:only-of-type {\n        vertical-align: middle;\n    }\n\n    .dataframe tbody tr th {\n        vertical-align: top;\n    }\n\n    .dataframe thead th {\n        text-align: right;\n    }\n</style>\n<table border=\"1\" class=\"dataframe\">\n  <thead>\n    <tr style=\"text-align: right;\">\n      <th></th>\n      <th>recency</th>\n      <th>frequency</th>\n      <th>monetary</th>\n      <th>nb_orders</th>\n      <th>first_order</th>\n      <th>last_order</th>\n      <th>days_between_orders</th>\n      <th>scoring_R</th>\n      <th>scoring_F</th>\n      <th>scoring_M</th>\n      <th>scoring_RFM</th>\n      <th>segment_RFM</th>\n      <th>review_score</th>\n      <th>review_completion_percentage</th>\n      <th>review_behavior</th>\n      <th>month_group</th>\n      <th>months_since_first</th>\n    </tr>\n  </thead>\n  <tbody>\n    <tr>\n      <th>0</th>\n      <td>112.0</td>\n      <td>0.200000</td>\n      <td>141.90</td>\n      <td>1.0</td>\n      <td>2018-05-10 10:56:27</td>\n      <td>2018-05-10 10:56:27</td>\n      <td>0</td>\n      <td>2</td>\n      <td>4</td>\n      <td>4</td>\n      <td>10</td>\n      <td>Bons clients</td>\n      <td>5.0</td>\n      <td>100.000000</td>\n      <td>Best Contributor</td>\n      <td>21</td>\n      <td>21.0</td>\n    </tr>\n    <tr>\n      <th>1</th>\n      <td>115.0</td>\n      <td>0.200000</td>\n      <td>27.19</td>\n      <td>1.0</td>\n      <td>2018-05-07 11:11:27</td>\n      <td>2018-05-07 11:11:27</td>\n      <td>0</td>\n      <td>2</td>\n      <td>4</td>\n      <td>1</td>\n      <td>7</td>\n      <td>Bons clients</td>\n      <td>4.0</td>\n      <td>33.333333</td>\n      <td>Best Contributor</td>\n      <td>21</td>\n      <td>21.0</td>\n    </tr>\n    <tr>\n      <th>2</th>\n      <td>537.0</td>\n      <td>0.052632</td>\n      <td>86.22</td>\n      <td>1.0</td>\n      <td>2017-03-10 21:05:03</td>\n      <td>2017-03-10 21:05:03</td>\n      <td>0</td>\n      <td>5</td>\n      <td>1</td>\n      <td>2</td>\n      <td>8</td>\n      <td>Bons clients</td>\n      <td>3.0</td>\n      <td>33.333333</td>\n      <td>Best Contributor</td>\n      <td>7</td>\n      <td>7.0</td>\n    </tr>\n    <tr>\n      <th>3</th>\n      <td>321.0</td>\n      <td>0.083333</td>\n      <td>43.62</td>\n      <td>1.0</td>\n      <td>2017-10-12 20:29:41</td>\n      <td>2017-10-12 20:29:41</td>\n      <td>0</td>\n      <td>4</td>\n      <td>2</td>\n      <td>1</td>\n      <td>7</td>\n      <td>Bons clients</td>\n      <td>4.0</td>\n      <td>66.666667</td>\n      <td>Best Contributor</td>\n      <td>14</td>\n      <td>14.0</td>\n    </tr>\n    <tr>\n      <th>4</th>\n      <td>288.0</td>\n      <td>0.090909</td>\n      <td>196.89</td>\n      <td>1.0</td>\n      <td>2017-11-14 19:45:42</td>\n      <td>2017-11-14 19:45:42</td>\n      <td>0</td>\n      <td>4</td>\n      <td>2</td>\n      <td>4</td>\n      <td>10</td>\n      <td>Bons clients</td>\n      <td>5.0</td>\n      <td>33.333333</td>\n      <td>Best Contributor</td>\n      <td>15</td>\n      <td>15.0</td>\n    </tr>\n    <tr>\n      <th>...</th>\n      <td>...</td>\n      <td>...</td>\n      <td>...</td>\n      <td>...</td>\n      <td>...</td>\n      <td>...</td>\n      <td>...</td>\n      <td>...</td>\n      <td>...</td>\n      <td>...</td>\n      <td>...</td>\n      <td>...</td>\n      <td>...</td>\n      <td>...</td>\n      <td>...</td>\n      <td>...</td>\n      <td>...</td>\n    </tr>\n    <tr>\n      <th>93103</th>\n      <td>447.0</td>\n      <td>0.062500</td>\n      <td>2067.42</td>\n      <td>1.0</td>\n      <td>2017-06-08 21:00:36</td>\n      <td>2017-06-08 21:00:36</td>\n      <td>0</td>\n      <td>5</td>\n      <td>1</td>\n      <td>5</td>\n      <td>11</td>\n      <td>Bons clients</td>\n      <td>5.0</td>\n      <td>33.333333</td>\n      <td>Best Contributor</td>\n      <td>10</td>\n      <td>10.0</td>\n    </tr>\n    <tr>\n      <th>93104</th>\n      <td>262.0</td>\n      <td>0.100000</td>\n      <td>84.58</td>\n      <td>1.0</td>\n      <td>2017-12-10 20:07:56</td>\n      <td>2017-12-10 20:07:56</td>\n      <td>0</td>\n      <td>3</td>\n      <td>2</td>\n      <td>2</td>\n      <td>7</td>\n      <td>Bons clients</td>\n      <td>4.0</td>\n      <td>33.333333</td>\n      <td>Best Contributor</td>\n      <td>16</td>\n      <td>16.0</td>\n    </tr>\n    <tr>\n      <th>93105</th>\n      <td>568.0</td>\n      <td>0.050000</td>\n      <td>112.46</td>\n      <td>1.0</td>\n      <td>2017-02-07 15:49:16</td>\n      <td>2017-02-07 15:49:16</td>\n      <td>0</td>\n      <td>5</td>\n      <td>1</td>\n      <td>3</td>\n      <td>9</td>\n      <td>Bons clients</td>\n      <td>5.0</td>\n      <td>33.333333</td>\n      <td>Best Contributor</td>\n      <td>6</td>\n      <td>6.0</td>\n    </tr>\n    <tr>\n      <th>93106</th>\n      <td>119.0</td>\n      <td>0.200000</td>\n      <td>133.69</td>\n      <td>1.0</td>\n      <td>2018-05-02 15:17:41</td>\n      <td>2018-05-02 15:17:41</td>\n      <td>0</td>\n      <td>2</td>\n      <td>4</td>\n      <td>4</td>\n      <td>10</td>\n      <td>Bons clients</td>\n      <td>5.0</td>\n      <td>100.000000</td>\n      <td>Best Contributor</td>\n      <td>21</td>\n      <td>21.0</td>\n    </tr>\n    <tr>\n      <th>93107</th>\n      <td>484.0</td>\n      <td>0.058824</td>\n      <td>71.56</td>\n      <td>1.0</td>\n      <td>2017-05-02 20:18:45</td>\n      <td>2017-05-02 20:18:45</td>\n      <td>0</td>\n      <td>5</td>\n      <td>1</td>\n      <td>2</td>\n      <td>8</td>\n      <td>Bons clients</td>\n      <td>5.0</td>\n      <td>33.333333</td>\n      <td>Best Contributor</td>\n      <td>9</td>\n      <td>9.0</td>\n    </tr>\n  </tbody>\n</table>\n<p>93108 rows × 17 columns</p>\n</div>"
     },
     "execution_count": 206,
     "metadata": {},
     "output_type": "execute_result"
    }
   ],
   "source": [
    "distributed_customers"
   ],
   "metadata": {
    "collapsed": false,
    "pycharm": {
     "name": "#%%\n"
    }
   }
  },
  {
   "cell_type": "code",
   "execution_count": 207,
   "outputs": [
    {
     "data": {
      "text/plain": "       recency  frequency  monetary  nb_orders         first_order  \\\n0        112.0   0.200000    141.90        1.0 2018-05-10 10:56:27   \n1        115.0   0.200000     27.19        1.0 2018-05-07 11:11:27   \n2        537.0   0.052632     86.22        1.0 2017-03-10 21:05:03   \n3        321.0   0.083333     43.62        1.0 2017-10-12 20:29:41   \n4        288.0   0.090909    196.89        1.0 2017-11-14 19:45:42   \n...        ...        ...       ...        ...                 ...   \n93103    447.0   0.062500   2067.42        1.0 2017-06-08 21:00:36   \n93104    262.0   0.100000     84.58        1.0 2017-12-10 20:07:56   \n93105    568.0   0.050000    112.46        1.0 2017-02-07 15:49:16   \n93106    119.0   0.200000    133.69        1.0 2018-05-02 15:17:41   \n93107    484.0   0.058824     71.56        1.0 2017-05-02 20:18:45   \n\n               last_order  days_between_orders  scoring_R  scoring_F  \\\n0     2018-05-10 10:56:27                    0          2          4   \n1     2018-05-07 11:11:27                    0          2          4   \n2     2017-03-10 21:05:03                    0          5          1   \n3     2017-10-12 20:29:41                    0          4          2   \n4     2017-11-14 19:45:42                    0          4          2   \n...                   ...                  ...        ...        ...   \n93103 2017-06-08 21:00:36                    0          5          1   \n93104 2017-12-10 20:07:56                    0          3          2   \n93105 2017-02-07 15:49:16                    0          5          1   \n93106 2018-05-02 15:17:41                    0          2          4   \n93107 2017-05-02 20:18:45                    0          5          1   \n\n       scoring_M  scoring_RFM   segment_RFM  review_score  \\\n0              4           10  Bons clients           5.0   \n1              1            7  Bons clients           4.0   \n2              2            8  Bons clients           3.0   \n3              1            7  Bons clients           4.0   \n4              4           10  Bons clients           5.0   \n...          ...          ...           ...           ...   \n93103          5           11  Bons clients           5.0   \n93104          2            7  Bons clients           4.0   \n93105          3            9  Bons clients           5.0   \n93106          4           10  Bons clients           5.0   \n93107          2            8  Bons clients           5.0   \n\n       review_completion_percentage   review_behavior  month_group  \\\n0                        100.000000  Best Contributor           21   \n1                         33.333333  Best Contributor           21   \n2                         33.333333  Best Contributor            7   \n3                         66.666667  Best Contributor           14   \n4                         33.333333  Best Contributor           15   \n...                             ...               ...          ...   \n93103                     33.333333  Best Contributor           10   \n93104                     33.333333  Best Contributor           16   \n93105                     33.333333  Best Contributor            6   \n93106                    100.000000  Best Contributor           21   \n93107                     33.333333  Best Contributor            9   \n\n       months_since_first  \n0                    21.0  \n1                    21.0  \n2                     7.0  \n3                    14.0  \n4                    15.0  \n...                   ...  \n93103                10.0  \n93104                16.0  \n93105                 6.0  \n93106                21.0  \n93107                 9.0  \n\n[86659 rows x 17 columns]",
      "text/html": "<div>\n<style scoped>\n    .dataframe tbody tr th:only-of-type {\n        vertical-align: middle;\n    }\n\n    .dataframe tbody tr th {\n        vertical-align: top;\n    }\n\n    .dataframe thead th {\n        text-align: right;\n    }\n</style>\n<table border=\"1\" class=\"dataframe\">\n  <thead>\n    <tr style=\"text-align: right;\">\n      <th></th>\n      <th>recency</th>\n      <th>frequency</th>\n      <th>monetary</th>\n      <th>nb_orders</th>\n      <th>first_order</th>\n      <th>last_order</th>\n      <th>days_between_orders</th>\n      <th>scoring_R</th>\n      <th>scoring_F</th>\n      <th>scoring_M</th>\n      <th>scoring_RFM</th>\n      <th>segment_RFM</th>\n      <th>review_score</th>\n      <th>review_completion_percentage</th>\n      <th>review_behavior</th>\n      <th>month_group</th>\n      <th>months_since_first</th>\n    </tr>\n  </thead>\n  <tbody>\n    <tr>\n      <th>0</th>\n      <td>112.0</td>\n      <td>0.200000</td>\n      <td>141.90</td>\n      <td>1.0</td>\n      <td>2018-05-10 10:56:27</td>\n      <td>2018-05-10 10:56:27</td>\n      <td>0</td>\n      <td>2</td>\n      <td>4</td>\n      <td>4</td>\n      <td>10</td>\n      <td>Bons clients</td>\n      <td>5.0</td>\n      <td>100.000000</td>\n      <td>Best Contributor</td>\n      <td>21</td>\n      <td>21.0</td>\n    </tr>\n    <tr>\n      <th>1</th>\n      <td>115.0</td>\n      <td>0.200000</td>\n      <td>27.19</td>\n      <td>1.0</td>\n      <td>2018-05-07 11:11:27</td>\n      <td>2018-05-07 11:11:27</td>\n      <td>0</td>\n      <td>2</td>\n      <td>4</td>\n      <td>1</td>\n      <td>7</td>\n      <td>Bons clients</td>\n      <td>4.0</td>\n      <td>33.333333</td>\n      <td>Best Contributor</td>\n      <td>21</td>\n      <td>21.0</td>\n    </tr>\n    <tr>\n      <th>2</th>\n      <td>537.0</td>\n      <td>0.052632</td>\n      <td>86.22</td>\n      <td>1.0</td>\n      <td>2017-03-10 21:05:03</td>\n      <td>2017-03-10 21:05:03</td>\n      <td>0</td>\n      <td>5</td>\n      <td>1</td>\n      <td>2</td>\n      <td>8</td>\n      <td>Bons clients</td>\n      <td>3.0</td>\n      <td>33.333333</td>\n      <td>Best Contributor</td>\n      <td>7</td>\n      <td>7.0</td>\n    </tr>\n    <tr>\n      <th>3</th>\n      <td>321.0</td>\n      <td>0.083333</td>\n      <td>43.62</td>\n      <td>1.0</td>\n      <td>2017-10-12 20:29:41</td>\n      <td>2017-10-12 20:29:41</td>\n      <td>0</td>\n      <td>4</td>\n      <td>2</td>\n      <td>1</td>\n      <td>7</td>\n      <td>Bons clients</td>\n      <td>4.0</td>\n      <td>66.666667</td>\n      <td>Best Contributor</td>\n      <td>14</td>\n      <td>14.0</td>\n    </tr>\n    <tr>\n      <th>4</th>\n      <td>288.0</td>\n      <td>0.090909</td>\n      <td>196.89</td>\n      <td>1.0</td>\n      <td>2017-11-14 19:45:42</td>\n      <td>2017-11-14 19:45:42</td>\n      <td>0</td>\n      <td>4</td>\n      <td>2</td>\n      <td>4</td>\n      <td>10</td>\n      <td>Bons clients</td>\n      <td>5.0</td>\n      <td>33.333333</td>\n      <td>Best Contributor</td>\n      <td>15</td>\n      <td>15.0</td>\n    </tr>\n    <tr>\n      <th>...</th>\n      <td>...</td>\n      <td>...</td>\n      <td>...</td>\n      <td>...</td>\n      <td>...</td>\n      <td>...</td>\n      <td>...</td>\n      <td>...</td>\n      <td>...</td>\n      <td>...</td>\n      <td>...</td>\n      <td>...</td>\n      <td>...</td>\n      <td>...</td>\n      <td>...</td>\n      <td>...</td>\n      <td>...</td>\n    </tr>\n    <tr>\n      <th>93103</th>\n      <td>447.0</td>\n      <td>0.062500</td>\n      <td>2067.42</td>\n      <td>1.0</td>\n      <td>2017-06-08 21:00:36</td>\n      <td>2017-06-08 21:00:36</td>\n      <td>0</td>\n      <td>5</td>\n      <td>1</td>\n      <td>5</td>\n      <td>11</td>\n      <td>Bons clients</td>\n      <td>5.0</td>\n      <td>33.333333</td>\n      <td>Best Contributor</td>\n      <td>10</td>\n      <td>10.0</td>\n    </tr>\n    <tr>\n      <th>93104</th>\n      <td>262.0</td>\n      <td>0.100000</td>\n      <td>84.58</td>\n      <td>1.0</td>\n      <td>2017-12-10 20:07:56</td>\n      <td>2017-12-10 20:07:56</td>\n      <td>0</td>\n      <td>3</td>\n      <td>2</td>\n      <td>2</td>\n      <td>7</td>\n      <td>Bons clients</td>\n      <td>4.0</td>\n      <td>33.333333</td>\n      <td>Best Contributor</td>\n      <td>16</td>\n      <td>16.0</td>\n    </tr>\n    <tr>\n      <th>93105</th>\n      <td>568.0</td>\n      <td>0.050000</td>\n      <td>112.46</td>\n      <td>1.0</td>\n      <td>2017-02-07 15:49:16</td>\n      <td>2017-02-07 15:49:16</td>\n      <td>0</td>\n      <td>5</td>\n      <td>1</td>\n      <td>3</td>\n      <td>9</td>\n      <td>Bons clients</td>\n      <td>5.0</td>\n      <td>33.333333</td>\n      <td>Best Contributor</td>\n      <td>6</td>\n      <td>6.0</td>\n    </tr>\n    <tr>\n      <th>93106</th>\n      <td>119.0</td>\n      <td>0.200000</td>\n      <td>133.69</td>\n      <td>1.0</td>\n      <td>2018-05-02 15:17:41</td>\n      <td>2018-05-02 15:17:41</td>\n      <td>0</td>\n      <td>2</td>\n      <td>4</td>\n      <td>4</td>\n      <td>10</td>\n      <td>Bons clients</td>\n      <td>5.0</td>\n      <td>100.000000</td>\n      <td>Best Contributor</td>\n      <td>21</td>\n      <td>21.0</td>\n    </tr>\n    <tr>\n      <th>93107</th>\n      <td>484.0</td>\n      <td>0.058824</td>\n      <td>71.56</td>\n      <td>1.0</td>\n      <td>2017-05-02 20:18:45</td>\n      <td>2017-05-02 20:18:45</td>\n      <td>0</td>\n      <td>5</td>\n      <td>1</td>\n      <td>2</td>\n      <td>8</td>\n      <td>Bons clients</td>\n      <td>5.0</td>\n      <td>33.333333</td>\n      <td>Best Contributor</td>\n      <td>9</td>\n      <td>9.0</td>\n    </tr>\n  </tbody>\n</table>\n<p>86659 rows × 17 columns</p>\n</div>"
     },
     "execution_count": 207,
     "metadata": {},
     "output_type": "execute_result"
    }
   ],
   "source": [
    "in_period = (distributed_customers.first_order >= \"2016-10-01\") & (\n",
    "    distributed_customers.first_order <= \"2018-07-31\"\n",
    ")\n",
    "\n",
    "distributed_customers = distributed_customers.loc[in_period, :]\n",
    "\n",
    "# If the Second Order is out of range, replace it with the First Order date\n",
    "out_of_period = (distributed_customers.last_order <= \"2016-10-01\") & (\n",
    "    distributed_customers.last_order >= \"2018-07-31\"\n",
    ")\n",
    "distributed_customers.loc[out_of_period, \"nb_orders\"] = 1\n",
    "distributed_customers.loc[out_of_period, \"days_between_orders\"] = 0\n",
    "distributed_customers.loc[out_of_period, \"last_order\"] = distributed_customers[\n",
    "    \"first_order\"\n",
    "]\n",
    "\n",
    "distributed_customers"
   ],
   "metadata": {
    "collapsed": false,
    "pycharm": {
     "name": "#%%\n"
    }
   }
  },
  {
   "cell_type": "code",
   "execution_count": 208,
   "outputs": [
    {
     "data": {
      "text/plain": "       recency  frequency  monetary  nb_orders         first_order  \\\n0        112.0   0.200000    141.90        1.0 2018-05-10 10:56:27   \n1        115.0   0.200000     27.19        1.0 2018-05-07 11:11:27   \n2        537.0   0.052632     86.22        1.0 2017-03-10 21:05:03   \n3        321.0   0.083333     43.62        1.0 2017-10-12 20:29:41   \n4        288.0   0.090909    196.89        1.0 2017-11-14 19:45:42   \n...        ...        ...       ...        ...                 ...   \n93103    447.0   0.062500   2067.42        1.0 2017-06-08 21:00:36   \n93104    262.0   0.100000     84.58        1.0 2017-12-10 20:07:56   \n93105    568.0   0.050000    112.46        1.0 2017-02-07 15:49:16   \n93106    119.0   0.200000    133.69        1.0 2018-05-02 15:17:41   \n93107    484.0   0.058824     71.56        1.0 2017-05-02 20:18:45   \n\n               last_order  days_between_orders  scoring_R  scoring_F  \\\n0     2018-05-10 10:56:27                    0          2          4   \n1     2018-05-07 11:11:27                    0          2          4   \n2     2017-03-10 21:05:03                    0          5          1   \n3     2017-10-12 20:29:41                    0          4          2   \n4     2017-11-14 19:45:42                    0          4          2   \n...                   ...                  ...        ...        ...   \n93103 2017-06-08 21:00:36                    0          5          1   \n93104 2017-12-10 20:07:56                    0          3          2   \n93105 2017-02-07 15:49:16                    0          5          1   \n93106 2018-05-02 15:17:41                    0          2          4   \n93107 2017-05-02 20:18:45                    0          5          1   \n\n       scoring_M  scoring_RFM   segment_RFM  review_score  \\\n0              4           10  Bons clients           5.0   \n1              1            7  Bons clients           4.0   \n2              2            8  Bons clients           3.0   \n3              1            7  Bons clients           4.0   \n4              4           10  Bons clients           5.0   \n...          ...          ...           ...           ...   \n93103          5           11  Bons clients           5.0   \n93104          2            7  Bons clients           4.0   \n93105          3            9  Bons clients           5.0   \n93106          4           10  Bons clients           5.0   \n93107          2            8  Bons clients           5.0   \n\n       review_completion_percentage   review_behavior  month_group  \\\n0                        100.000000  Best Contributor           21   \n1                         33.333333  Best Contributor           21   \n2                         33.333333  Best Contributor            7   \n3                         66.666667  Best Contributor           14   \n4                         33.333333  Best Contributor           15   \n...                             ...               ...          ...   \n93103                     33.333333  Best Contributor           10   \n93104                     33.333333  Best Contributor           16   \n93105                     33.333333  Best Contributor            6   \n93106                    100.000000  Best Contributor           21   \n93107                     33.333333  Best Contributor            9   \n\n       months_since_first  \n0                    21.0  \n1                    21.0  \n2                     7.0  \n3                    14.0  \n4                    15.0  \n...                   ...  \n93103                10.0  \n93104                16.0  \n93105                 6.0  \n93106                21.0  \n93107                 9.0  \n\n[86659 rows x 17 columns]",
      "text/html": "<div>\n<style scoped>\n    .dataframe tbody tr th:only-of-type {\n        vertical-align: middle;\n    }\n\n    .dataframe tbody tr th {\n        vertical-align: top;\n    }\n\n    .dataframe thead th {\n        text-align: right;\n    }\n</style>\n<table border=\"1\" class=\"dataframe\">\n  <thead>\n    <tr style=\"text-align: right;\">\n      <th></th>\n      <th>recency</th>\n      <th>frequency</th>\n      <th>monetary</th>\n      <th>nb_orders</th>\n      <th>first_order</th>\n      <th>last_order</th>\n      <th>days_between_orders</th>\n      <th>scoring_R</th>\n      <th>scoring_F</th>\n      <th>scoring_M</th>\n      <th>scoring_RFM</th>\n      <th>segment_RFM</th>\n      <th>review_score</th>\n      <th>review_completion_percentage</th>\n      <th>review_behavior</th>\n      <th>month_group</th>\n      <th>months_since_first</th>\n    </tr>\n  </thead>\n  <tbody>\n    <tr>\n      <th>0</th>\n      <td>112.0</td>\n      <td>0.200000</td>\n      <td>141.90</td>\n      <td>1.0</td>\n      <td>2018-05-10 10:56:27</td>\n      <td>2018-05-10 10:56:27</td>\n      <td>0</td>\n      <td>2</td>\n      <td>4</td>\n      <td>4</td>\n      <td>10</td>\n      <td>Bons clients</td>\n      <td>5.0</td>\n      <td>100.000000</td>\n      <td>Best Contributor</td>\n      <td>21</td>\n      <td>21.0</td>\n    </tr>\n    <tr>\n      <th>1</th>\n      <td>115.0</td>\n      <td>0.200000</td>\n      <td>27.19</td>\n      <td>1.0</td>\n      <td>2018-05-07 11:11:27</td>\n      <td>2018-05-07 11:11:27</td>\n      <td>0</td>\n      <td>2</td>\n      <td>4</td>\n      <td>1</td>\n      <td>7</td>\n      <td>Bons clients</td>\n      <td>4.0</td>\n      <td>33.333333</td>\n      <td>Best Contributor</td>\n      <td>21</td>\n      <td>21.0</td>\n    </tr>\n    <tr>\n      <th>2</th>\n      <td>537.0</td>\n      <td>0.052632</td>\n      <td>86.22</td>\n      <td>1.0</td>\n      <td>2017-03-10 21:05:03</td>\n      <td>2017-03-10 21:05:03</td>\n      <td>0</td>\n      <td>5</td>\n      <td>1</td>\n      <td>2</td>\n      <td>8</td>\n      <td>Bons clients</td>\n      <td>3.0</td>\n      <td>33.333333</td>\n      <td>Best Contributor</td>\n      <td>7</td>\n      <td>7.0</td>\n    </tr>\n    <tr>\n      <th>3</th>\n      <td>321.0</td>\n      <td>0.083333</td>\n      <td>43.62</td>\n      <td>1.0</td>\n      <td>2017-10-12 20:29:41</td>\n      <td>2017-10-12 20:29:41</td>\n      <td>0</td>\n      <td>4</td>\n      <td>2</td>\n      <td>1</td>\n      <td>7</td>\n      <td>Bons clients</td>\n      <td>4.0</td>\n      <td>66.666667</td>\n      <td>Best Contributor</td>\n      <td>14</td>\n      <td>14.0</td>\n    </tr>\n    <tr>\n      <th>4</th>\n      <td>288.0</td>\n      <td>0.090909</td>\n      <td>196.89</td>\n      <td>1.0</td>\n      <td>2017-11-14 19:45:42</td>\n      <td>2017-11-14 19:45:42</td>\n      <td>0</td>\n      <td>4</td>\n      <td>2</td>\n      <td>4</td>\n      <td>10</td>\n      <td>Bons clients</td>\n      <td>5.0</td>\n      <td>33.333333</td>\n      <td>Best Contributor</td>\n      <td>15</td>\n      <td>15.0</td>\n    </tr>\n    <tr>\n      <th>...</th>\n      <td>...</td>\n      <td>...</td>\n      <td>...</td>\n      <td>...</td>\n      <td>...</td>\n      <td>...</td>\n      <td>...</td>\n      <td>...</td>\n      <td>...</td>\n      <td>...</td>\n      <td>...</td>\n      <td>...</td>\n      <td>...</td>\n      <td>...</td>\n      <td>...</td>\n      <td>...</td>\n      <td>...</td>\n    </tr>\n    <tr>\n      <th>93103</th>\n      <td>447.0</td>\n      <td>0.062500</td>\n      <td>2067.42</td>\n      <td>1.0</td>\n      <td>2017-06-08 21:00:36</td>\n      <td>2017-06-08 21:00:36</td>\n      <td>0</td>\n      <td>5</td>\n      <td>1</td>\n      <td>5</td>\n      <td>11</td>\n      <td>Bons clients</td>\n      <td>5.0</td>\n      <td>33.333333</td>\n      <td>Best Contributor</td>\n      <td>10</td>\n      <td>10.0</td>\n    </tr>\n    <tr>\n      <th>93104</th>\n      <td>262.0</td>\n      <td>0.100000</td>\n      <td>84.58</td>\n      <td>1.0</td>\n      <td>2017-12-10 20:07:56</td>\n      <td>2017-12-10 20:07:56</td>\n      <td>0</td>\n      <td>3</td>\n      <td>2</td>\n      <td>2</td>\n      <td>7</td>\n      <td>Bons clients</td>\n      <td>4.0</td>\n      <td>33.333333</td>\n      <td>Best Contributor</td>\n      <td>16</td>\n      <td>16.0</td>\n    </tr>\n    <tr>\n      <th>93105</th>\n      <td>568.0</td>\n      <td>0.050000</td>\n      <td>112.46</td>\n      <td>1.0</td>\n      <td>2017-02-07 15:49:16</td>\n      <td>2017-02-07 15:49:16</td>\n      <td>0</td>\n      <td>5</td>\n      <td>1</td>\n      <td>3</td>\n      <td>9</td>\n      <td>Bons clients</td>\n      <td>5.0</td>\n      <td>33.333333</td>\n      <td>Best Contributor</td>\n      <td>6</td>\n      <td>6.0</td>\n    </tr>\n    <tr>\n      <th>93106</th>\n      <td>119.0</td>\n      <td>0.200000</td>\n      <td>133.69</td>\n      <td>1.0</td>\n      <td>2018-05-02 15:17:41</td>\n      <td>2018-05-02 15:17:41</td>\n      <td>0</td>\n      <td>2</td>\n      <td>4</td>\n      <td>4</td>\n      <td>10</td>\n      <td>Bons clients</td>\n      <td>5.0</td>\n      <td>100.000000</td>\n      <td>Best Contributor</td>\n      <td>21</td>\n      <td>21.0</td>\n    </tr>\n    <tr>\n      <th>93107</th>\n      <td>484.0</td>\n      <td>0.058824</td>\n      <td>71.56</td>\n      <td>1.0</td>\n      <td>2017-05-02 20:18:45</td>\n      <td>2017-05-02 20:18:45</td>\n      <td>0</td>\n      <td>5</td>\n      <td>1</td>\n      <td>2</td>\n      <td>8</td>\n      <td>Bons clients</td>\n      <td>5.0</td>\n      <td>33.333333</td>\n      <td>Best Contributor</td>\n      <td>9</td>\n      <td>9.0</td>\n    </tr>\n  </tbody>\n</table>\n<p>86659 rows × 17 columns</p>\n</div>"
     },
     "execution_count": 208,
     "metadata": {},
     "output_type": "execute_result"
    }
   ],
   "source": [
    "distributed_customers"
   ],
   "metadata": {
    "collapsed": false,
    "pycharm": {
     "name": "#%%\n"
    }
   }
  },
  {
   "cell_type": "code",
   "execution_count": 209,
   "outputs": [
    {
     "data": {
      "text/plain": "             recency  frequency  monetary  nb_orders  first_order  last_order  \\\nmonth_group                                                                     \n2                261        261       261        261          261         261   \n4                  1          1         1          1            1           1   \n5                573        573       573        573          573         573   \n6               1659       1659      1659       1659         1659        1659   \n7               2453       2453      2453       2453         2453        2453   \n8               2167       2167      2167       2167         2167        2167   \n9               3304       3304      3304       3304         3304        3304   \n10              2952       2952      2952       2952         2952        2952   \n11              3691       3691      3691       3691         3691        3691   \n12              3721       3721      3721       3721         3721        3721   \n13              4127       4127      4127       4127         4127        4127   \n14              4060       4060      4060       4060         4060        4060   \n15              5954       5954      5954       5954         5954        5954   \n16              6398       6398      6398       6398         6398        6398   \n17              6130       6130      6130       6130         6130        6130   \n18              6217       6217      6217       6217         6217        6217   \n19              7075       7075      7075       7075         7075        7075   \n20              6182       6182      6182       6182         6182        6182   \n21              7329       7329      7329       7329         7329        7329   \n22              5122       5122      5122       5122         5122        5122   \n23              5539       5539      5539       5539         5539        5539   \n24              1744       1744      1744       1744         1744        1744   \n\n             days_between_orders  scoring_R  scoring_F  scoring_M  \\\nmonth_group                                                         \n2                            261        261        261        261   \n4                              1          1          1          1   \n5                            573        573        573        573   \n6                           1659       1659       1659       1659   \n7                           2453       2453       2453       2453   \n8                           2167       2167       2167       2167   \n9                           3304       3304       3304       3304   \n10                          2952       2952       2952       2952   \n11                          3691       3691       3691       3691   \n12                          3721       3721       3721       3721   \n13                          4127       4127       4127       4127   \n14                          4060       4060       4060       4060   \n15                          5954       5954       5954       5954   \n16                          6398       6398       6398       6398   \n17                          6130       6130       6130       6130   \n18                          6217       6217       6217       6217   \n19                          7075       7075       7075       7075   \n20                          6182       6182       6182       6182   \n21                          7329       7329       7329       7329   \n22                          5122       5122       5122       5122   \n23                          5539       5539       5539       5539   \n24                          1744       1744       1744       1744   \n\n             scoring_RFM  segment_RFM  review_score  \\\nmonth_group                                           \n2                    261          261           261   \n4                      1            1             1   \n5                    573          573           573   \n6                   1659         1659          1659   \n7                   2453         2453          2453   \n8                   2167         2167          2167   \n9                   3304         3304          3304   \n10                  2952         2952          2952   \n11                  3691         3691          3691   \n12                  3721         3721          3721   \n13                  4127         4127          4127   \n14                  4060         4060          4060   \n15                  5954         5954          5954   \n16                  6398         6398          6398   \n17                  6130         6130          6130   \n18                  6217         6217          6217   \n19                  7075         7075          7075   \n20                  6182         6182          6182   \n21                  7329         7329          7329   \n22                  5122         5122          5122   \n23                  5539         5539          5539   \n24                  1744         1744          1744   \n\n             review_completion_percentage  review_behavior  months_since_first  \nmonth_group                                                                     \n2                                     261              261                 261  \n4                                       1                1                   1  \n5                                     573              573                 573  \n6                                    1659             1659                1659  \n7                                    2453             2453                2453  \n8                                    2167             2167                2167  \n9                                    3304             3304                3304  \n10                                   2952             2952                2952  \n11                                   3691             3691                3691  \n12                                   3721             3721                3721  \n13                                   4127             4127                4127  \n14                                   4060             4060                4060  \n15                                   5954             5954                5954  \n16                                   6398             6398                6398  \n17                                   6130             6130                6130  \n18                                   6217             6217                6217  \n19                                   7075             7075                7075  \n20                                   6182             6182                6182  \n21                                   7329             7329                7329  \n22                                   5122             5122                5122  \n23                                   5539             5539                5539  \n24                                   1744             1744                1744  ",
      "text/html": "<div>\n<style scoped>\n    .dataframe tbody tr th:only-of-type {\n        vertical-align: middle;\n    }\n\n    .dataframe tbody tr th {\n        vertical-align: top;\n    }\n\n    .dataframe thead th {\n        text-align: right;\n    }\n</style>\n<table border=\"1\" class=\"dataframe\">\n  <thead>\n    <tr style=\"text-align: right;\">\n      <th></th>\n      <th>recency</th>\n      <th>frequency</th>\n      <th>monetary</th>\n      <th>nb_orders</th>\n      <th>first_order</th>\n      <th>last_order</th>\n      <th>days_between_orders</th>\n      <th>scoring_R</th>\n      <th>scoring_F</th>\n      <th>scoring_M</th>\n      <th>scoring_RFM</th>\n      <th>segment_RFM</th>\n      <th>review_score</th>\n      <th>review_completion_percentage</th>\n      <th>review_behavior</th>\n      <th>months_since_first</th>\n    </tr>\n    <tr>\n      <th>month_group</th>\n      <th></th>\n      <th></th>\n      <th></th>\n      <th></th>\n      <th></th>\n      <th></th>\n      <th></th>\n      <th></th>\n      <th></th>\n      <th></th>\n      <th></th>\n      <th></th>\n      <th></th>\n      <th></th>\n      <th></th>\n      <th></th>\n    </tr>\n  </thead>\n  <tbody>\n    <tr>\n      <th>2</th>\n      <td>261</td>\n      <td>261</td>\n      <td>261</td>\n      <td>261</td>\n      <td>261</td>\n      <td>261</td>\n      <td>261</td>\n      <td>261</td>\n      <td>261</td>\n      <td>261</td>\n      <td>261</td>\n      <td>261</td>\n      <td>261</td>\n      <td>261</td>\n      <td>261</td>\n      <td>261</td>\n    </tr>\n    <tr>\n      <th>4</th>\n      <td>1</td>\n      <td>1</td>\n      <td>1</td>\n      <td>1</td>\n      <td>1</td>\n      <td>1</td>\n      <td>1</td>\n      <td>1</td>\n      <td>1</td>\n      <td>1</td>\n      <td>1</td>\n      <td>1</td>\n      <td>1</td>\n      <td>1</td>\n      <td>1</td>\n      <td>1</td>\n    </tr>\n    <tr>\n      <th>5</th>\n      <td>573</td>\n      <td>573</td>\n      <td>573</td>\n      <td>573</td>\n      <td>573</td>\n      <td>573</td>\n      <td>573</td>\n      <td>573</td>\n      <td>573</td>\n      <td>573</td>\n      <td>573</td>\n      <td>573</td>\n      <td>573</td>\n      <td>573</td>\n      <td>573</td>\n      <td>573</td>\n    </tr>\n    <tr>\n      <th>6</th>\n      <td>1659</td>\n      <td>1659</td>\n      <td>1659</td>\n      <td>1659</td>\n      <td>1659</td>\n      <td>1659</td>\n      <td>1659</td>\n      <td>1659</td>\n      <td>1659</td>\n      <td>1659</td>\n      <td>1659</td>\n      <td>1659</td>\n      <td>1659</td>\n      <td>1659</td>\n      <td>1659</td>\n      <td>1659</td>\n    </tr>\n    <tr>\n      <th>7</th>\n      <td>2453</td>\n      <td>2453</td>\n      <td>2453</td>\n      <td>2453</td>\n      <td>2453</td>\n      <td>2453</td>\n      <td>2453</td>\n      <td>2453</td>\n      <td>2453</td>\n      <td>2453</td>\n      <td>2453</td>\n      <td>2453</td>\n      <td>2453</td>\n      <td>2453</td>\n      <td>2453</td>\n      <td>2453</td>\n    </tr>\n    <tr>\n      <th>8</th>\n      <td>2167</td>\n      <td>2167</td>\n      <td>2167</td>\n      <td>2167</td>\n      <td>2167</td>\n      <td>2167</td>\n      <td>2167</td>\n      <td>2167</td>\n      <td>2167</td>\n      <td>2167</td>\n      <td>2167</td>\n      <td>2167</td>\n      <td>2167</td>\n      <td>2167</td>\n      <td>2167</td>\n      <td>2167</td>\n    </tr>\n    <tr>\n      <th>9</th>\n      <td>3304</td>\n      <td>3304</td>\n      <td>3304</td>\n      <td>3304</td>\n      <td>3304</td>\n      <td>3304</td>\n      <td>3304</td>\n      <td>3304</td>\n      <td>3304</td>\n      <td>3304</td>\n      <td>3304</td>\n      <td>3304</td>\n      <td>3304</td>\n      <td>3304</td>\n      <td>3304</td>\n      <td>3304</td>\n    </tr>\n    <tr>\n      <th>10</th>\n      <td>2952</td>\n      <td>2952</td>\n      <td>2952</td>\n      <td>2952</td>\n      <td>2952</td>\n      <td>2952</td>\n      <td>2952</td>\n      <td>2952</td>\n      <td>2952</td>\n      <td>2952</td>\n      <td>2952</td>\n      <td>2952</td>\n      <td>2952</td>\n      <td>2952</td>\n      <td>2952</td>\n      <td>2952</td>\n    </tr>\n    <tr>\n      <th>11</th>\n      <td>3691</td>\n      <td>3691</td>\n      <td>3691</td>\n      <td>3691</td>\n      <td>3691</td>\n      <td>3691</td>\n      <td>3691</td>\n      <td>3691</td>\n      <td>3691</td>\n      <td>3691</td>\n      <td>3691</td>\n      <td>3691</td>\n      <td>3691</td>\n      <td>3691</td>\n      <td>3691</td>\n      <td>3691</td>\n    </tr>\n    <tr>\n      <th>12</th>\n      <td>3721</td>\n      <td>3721</td>\n      <td>3721</td>\n      <td>3721</td>\n      <td>3721</td>\n      <td>3721</td>\n      <td>3721</td>\n      <td>3721</td>\n      <td>3721</td>\n      <td>3721</td>\n      <td>3721</td>\n      <td>3721</td>\n      <td>3721</td>\n      <td>3721</td>\n      <td>3721</td>\n      <td>3721</td>\n    </tr>\n    <tr>\n      <th>13</th>\n      <td>4127</td>\n      <td>4127</td>\n      <td>4127</td>\n      <td>4127</td>\n      <td>4127</td>\n      <td>4127</td>\n      <td>4127</td>\n      <td>4127</td>\n      <td>4127</td>\n      <td>4127</td>\n      <td>4127</td>\n      <td>4127</td>\n      <td>4127</td>\n      <td>4127</td>\n      <td>4127</td>\n      <td>4127</td>\n    </tr>\n    <tr>\n      <th>14</th>\n      <td>4060</td>\n      <td>4060</td>\n      <td>4060</td>\n      <td>4060</td>\n      <td>4060</td>\n      <td>4060</td>\n      <td>4060</td>\n      <td>4060</td>\n      <td>4060</td>\n      <td>4060</td>\n      <td>4060</td>\n      <td>4060</td>\n      <td>4060</td>\n      <td>4060</td>\n      <td>4060</td>\n      <td>4060</td>\n    </tr>\n    <tr>\n      <th>15</th>\n      <td>5954</td>\n      <td>5954</td>\n      <td>5954</td>\n      <td>5954</td>\n      <td>5954</td>\n      <td>5954</td>\n      <td>5954</td>\n      <td>5954</td>\n      <td>5954</td>\n      <td>5954</td>\n      <td>5954</td>\n      <td>5954</td>\n      <td>5954</td>\n      <td>5954</td>\n      <td>5954</td>\n      <td>5954</td>\n    </tr>\n    <tr>\n      <th>16</th>\n      <td>6398</td>\n      <td>6398</td>\n      <td>6398</td>\n      <td>6398</td>\n      <td>6398</td>\n      <td>6398</td>\n      <td>6398</td>\n      <td>6398</td>\n      <td>6398</td>\n      <td>6398</td>\n      <td>6398</td>\n      <td>6398</td>\n      <td>6398</td>\n      <td>6398</td>\n      <td>6398</td>\n      <td>6398</td>\n    </tr>\n    <tr>\n      <th>17</th>\n      <td>6130</td>\n      <td>6130</td>\n      <td>6130</td>\n      <td>6130</td>\n      <td>6130</td>\n      <td>6130</td>\n      <td>6130</td>\n      <td>6130</td>\n      <td>6130</td>\n      <td>6130</td>\n      <td>6130</td>\n      <td>6130</td>\n      <td>6130</td>\n      <td>6130</td>\n      <td>6130</td>\n      <td>6130</td>\n    </tr>\n    <tr>\n      <th>18</th>\n      <td>6217</td>\n      <td>6217</td>\n      <td>6217</td>\n      <td>6217</td>\n      <td>6217</td>\n      <td>6217</td>\n      <td>6217</td>\n      <td>6217</td>\n      <td>6217</td>\n      <td>6217</td>\n      <td>6217</td>\n      <td>6217</td>\n      <td>6217</td>\n      <td>6217</td>\n      <td>6217</td>\n      <td>6217</td>\n    </tr>\n    <tr>\n      <th>19</th>\n      <td>7075</td>\n      <td>7075</td>\n      <td>7075</td>\n      <td>7075</td>\n      <td>7075</td>\n      <td>7075</td>\n      <td>7075</td>\n      <td>7075</td>\n      <td>7075</td>\n      <td>7075</td>\n      <td>7075</td>\n      <td>7075</td>\n      <td>7075</td>\n      <td>7075</td>\n      <td>7075</td>\n      <td>7075</td>\n    </tr>\n    <tr>\n      <th>20</th>\n      <td>6182</td>\n      <td>6182</td>\n      <td>6182</td>\n      <td>6182</td>\n      <td>6182</td>\n      <td>6182</td>\n      <td>6182</td>\n      <td>6182</td>\n      <td>6182</td>\n      <td>6182</td>\n      <td>6182</td>\n      <td>6182</td>\n      <td>6182</td>\n      <td>6182</td>\n      <td>6182</td>\n      <td>6182</td>\n    </tr>\n    <tr>\n      <th>21</th>\n      <td>7329</td>\n      <td>7329</td>\n      <td>7329</td>\n      <td>7329</td>\n      <td>7329</td>\n      <td>7329</td>\n      <td>7329</td>\n      <td>7329</td>\n      <td>7329</td>\n      <td>7329</td>\n      <td>7329</td>\n      <td>7329</td>\n      <td>7329</td>\n      <td>7329</td>\n      <td>7329</td>\n      <td>7329</td>\n    </tr>\n    <tr>\n      <th>22</th>\n      <td>5122</td>\n      <td>5122</td>\n      <td>5122</td>\n      <td>5122</td>\n      <td>5122</td>\n      <td>5122</td>\n      <td>5122</td>\n      <td>5122</td>\n      <td>5122</td>\n      <td>5122</td>\n      <td>5122</td>\n      <td>5122</td>\n      <td>5122</td>\n      <td>5122</td>\n      <td>5122</td>\n      <td>5122</td>\n    </tr>\n    <tr>\n      <th>23</th>\n      <td>5539</td>\n      <td>5539</td>\n      <td>5539</td>\n      <td>5539</td>\n      <td>5539</td>\n      <td>5539</td>\n      <td>5539</td>\n      <td>5539</td>\n      <td>5539</td>\n      <td>5539</td>\n      <td>5539</td>\n      <td>5539</td>\n      <td>5539</td>\n      <td>5539</td>\n      <td>5539</td>\n      <td>5539</td>\n    </tr>\n    <tr>\n      <th>24</th>\n      <td>1744</td>\n      <td>1744</td>\n      <td>1744</td>\n      <td>1744</td>\n      <td>1744</td>\n      <td>1744</td>\n      <td>1744</td>\n      <td>1744</td>\n      <td>1744</td>\n      <td>1744</td>\n      <td>1744</td>\n      <td>1744</td>\n      <td>1744</td>\n      <td>1744</td>\n      <td>1744</td>\n      <td>1744</td>\n    </tr>\n  </tbody>\n</table>\n</div>"
     },
     "execution_count": 209,
     "metadata": {},
     "output_type": "execute_result"
    }
   ],
   "source": [
    "distributed_customers.groupby(\"month_group\").count()"
   ],
   "metadata": {
    "collapsed": false,
    "pycharm": {
     "name": "#%%\n"
    }
   }
  },
  {
   "cell_type": "markdown",
   "source": [
    "We need at least 20 000 customers to get a performant model so we will use the 13 first groups as basis for the model m<sup>1</sup>.\n",
    "\n",
    "* To build m<sup>2</sup>, we will use the 14 first groups\n",
    "* To build m<sup>3</sup>, we will use the 15 first groups\n",
    "* etc ...\n",
    "\n",
    "| Model          | Groups used  | Group Month of comparison for ARI |\n",
    "|----------------|--------------|-----------------------------------|\n",
    "| m<sup>1</sup>  | from 1 to 13 | _Not applicable_                  |\n",
    "| m<sup>2</sup>  | from 1 to 14 | 14                                |\n",
    "| m<sup>3</sup>  | from 1 to 15 | 15                                |\n",
    "| m<sup>4</sup>  | from 1 to 16 | 16                                |\n",
    "| m<sup>5</sup>  | from 1 to 17 | 17                                |\n",
    "| m<sup>6</sup>  | from 1 to 18 | 18                                |\n",
    "| m<sup>7</sup>  | from 1 to 19 | 19                                |\n",
    "| m<sup>8</sup>  | from 1 to 20 | 20                                |\n",
    "| m<sup>9</sup>  | from 1 to 21 | 21                                |\n",
    "| m<sup>10</sup> | from 1 to 22 | 22                                |\n",
    "| m<sup>11</sup> | from 1 to 23 | 23                                |\n",
    "| m<sup>12</sup> | from 1 to 24 | 24                                |\n"
   ],
   "metadata": {
    "collapsed": false
   }
  },
  {
   "cell_type": "markdown",
   "source": [
    "## Preparation of the Dataset for training"
   ],
   "metadata": {
    "collapsed": false
   }
  },
  {
   "cell_type": "code",
   "execution_count": 210,
   "outputs": [],
   "source": [
    "distributed_customers = distributed_customers[\n",
    "    [\"recency\", \"frequency\", \"monetary\", \"month_group\"]\n",
    "].copy()"
   ],
   "metadata": {
    "collapsed": false,
    "pycharm": {
     "name": "#%%\n"
    }
   }
  },
  {
   "cell_type": "code",
   "execution_count": 211,
   "outputs": [],
   "source": [
    "def get_trained_model(month_group, verbose=False):\n",
    "    customers = distributed_customers.query(\"month_group <= @month_group\")[\n",
    "        [\"recency\", \"frequency\", \"monetary\"]\n",
    "    ]\n",
    "\n",
    "    if verbose:\n",
    "        print(\n",
    "            \"Trained on {0} Customers until Group Month {1}\".format(\n",
    "                str(customers[\"recency\"].count()), str(month_group)\n",
    "            )\n",
    "        )\n",
    "\n",
    "    pipeline = make_pipeline(StandardScaler(), PowerTransformer())\n",
    "    scaled_customers = pipeline.fit_transform(customers)\n",
    "\n",
    "    return KMeans(n_clusters=6, random_state=42).fit(scaled_customers)\n",
    "\n",
    "\n",
    "def predict_group_labels(trained_model, month_group, model_name, verbose=False):\n",
    "    customers = distributed_customers.query(\"month_group <= @month_group\")[\n",
    "        [\"recency\", \"frequency\", \"monetary\"]\n",
    "    ]\n",
    "\n",
    "    if verbose:\n",
    "        print(\n",
    "            \"Predict {0} Customers Labels for original group By {1}\".format(\n",
    "                str(customers[\"recency\"].count()), model_name\n",
    "            )\n",
    "        )\n",
    "\n",
    "    pipeline = make_pipeline(StandardScaler(), PowerTransformer())\n",
    "    scaled_customers = pipeline.fit_transform(customers)\n",
    "\n",
    "    return trained_model.predict(scaled_customers)"
   ],
   "metadata": {
    "collapsed": false,
    "pycharm": {
     "name": "#%%\n"
    }
   }
  },
  {
   "cell_type": "code",
   "execution_count": 212,
   "outputs": [],
   "source": [
    "def get_ari_graph(months_of_training, verbose=False):\n",
    "\n",
    "    print(\n",
    "        \"Number of Customers used to train the Basis model: {0}\".format(\n",
    "            str(\n",
    "                distributed_customers.query(\"month_group <= @months_of_training\").shape[\n",
    "                    0\n",
    "                ]\n",
    "            )\n",
    "        )\n",
    "    )\n",
    "    m1 = get_trained_model(months_of_training)\n",
    "    true_labels = m1.labels_\n",
    "\n",
    "    ari_scores = []\n",
    "\n",
    "    for model in range(2, (25 - (months_of_training - 2))):\n",
    "        group_month = model + (months_of_training - 1)\n",
    "        # Train the model with the new data\n",
    "        new_model = get_trained_model(group_month, verbose)\n",
    "\n",
    "        # Get the predicted labels predicted by the new model\n",
    "        predicted_labels = predict_group_labels(\n",
    "            new_model, months_of_training, f\"Model {group_month}\", verbose\n",
    "        )\n",
    "\n",
    "        ari_scores.append(\n",
    "            {\n",
    "                \"month\": model - 1,\n",
    "                \"ari_score\": adjusted_rand_score(true_labels, predicted_labels),\n",
    "            }\n",
    "        )\n",
    "\n",
    "    pd.DataFrame(ari_scores).plot(\n",
    "        title=\"Evolution of ARI Score per Month\", x=\"month\", y=\"ari_score\"\n",
    "    );"
   ],
   "metadata": {
    "collapsed": false,
    "pycharm": {
     "name": "#%%\n"
    }
   }
  },
  {
   "cell_type": "code",
   "execution_count": null,
   "outputs": [
    {
     "name": "stdout",
     "output_type": "stream",
     "text": [
      "Number of Customers used to train the Basis model: 24909\n"
     ]
    }
   ],
   "source": [
    "# Create the DataFrame of ARI Scores (~25k of Customers)\n",
    "\n",
    "get_ari_graph(13)"
   ],
   "metadata": {
    "collapsed": false,
    "pycharm": {
     "name": "#%%\n",
     "is_executing": true
    }
   }
  },
  {
   "cell_type": "markdown",
   "source": [
    "The evolution of ARI Score show that the performance decrease a lot after 6 months, but we had only 20k customers : what if we collect more customers ?"
   ],
   "metadata": {
    "collapsed": false
   }
  },
  {
   "cell_type": "code",
   "execution_count": 214,
   "outputs": [
    {
     "name": "stdout",
     "output_type": "stream",
     "text": [
      "Number of Customers used to train the Basis model: 47451\n"
     ]
    },
    {
     "data": {
      "text/plain": "<Figure size 432x288 with 1 Axes>",
      "image/png": "[encoded data removed]"
     },
     "metadata": {
      "needs_background": "light"
     },
     "output_type": "display_data"
    }
   ],
   "source": [
    "# Create the DataFrame of ARI Scores (~45k of Customers)\n",
    "\n",
    "get_ari_graph(17)"
   ],
   "metadata": {
    "collapsed": false,
    "pycharm": {
     "name": "#%%\n"
    }
   }
  },
  {
   "cell_type": "markdown",
   "source": [
    "After 6 months, we see the decrease of ARI Score."
   ],
   "metadata": {
    "collapsed": false
   }
  }
 ],
 "metadata": {
  "kernelspec": {
   "display_name": "Python 3",
   "language": "python",
   "name": "python3"
  },
  "language_info": {
   "codemirror_mode": {
    "name": "ipython",
    "version": 2
   },
   "file_extension": ".py",
   "mimetype": "text/x-python",
   "name": "python",
   "nbconvert_exporter": "python",
   "pygments_lexer": "ipython2",
   "version": "2.7.6"
  }
 },
 "nbformat": 4,
 "nbformat_minor": 0
}